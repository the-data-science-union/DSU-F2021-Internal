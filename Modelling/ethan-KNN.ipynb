{
 "cells": [
  {
   "cell_type": "markdown",
   "id": "39986620-77ca-4850-8140-895db95bb58b",
   "metadata": {},
   "source": [
    "# K Nearest Neighbor Modeling"
   ]
  },
  {
   "cell_type": "code",
   "execution_count": 1,
   "id": "a1da715d-f18a-4d72-a398-a6f3e2b41d45",
   "metadata": {},
   "outputs": [],
   "source": [
    "import pandas as pd\n",
    "import numpy as np\n",
    "\n",
    "from sklearn.neighbors import KNeighborsClassifier\n",
    "from sklearn.preprocessing import StandardScaler\n",
    "from sklearn.model_selection import train_test_split\n",
    "from sklearn.metrics import accuracy_score, confusion_matrix, ConfusionMatrixDisplay\n",
    "\n",
    "import matplotlib.pyplot as plt\n",
    "import seaborn as sns"
   ]
  },
  {
   "cell_type": "code",
   "execution_count": 2,
   "id": "568d5588-c19f-418b-b128-a70ff497d633",
   "metadata": {},
   "outputs": [],
   "source": [
    "sns.set(style='white', context='notebook', rc={'figure.figsize':(10,8)})"
   ]
  },
  {
   "cell_type": "markdown",
   "id": "298e7ea7-dbf9-4529-bfcc-e7e70d6d891c",
   "metadata": {},
   "source": [
    "# Label/Feature Split"
   ]
  },
  {
   "cell_type": "code",
   "execution_count": 3,
   "id": "e2083f91-9a2d-4390-a9ad-e96ee72a8771",
   "metadata": {},
   "outputs": [
    {
     "data": {
      "text/html": [
       "<div>\n",
       "<style scoped>\n",
       "    .dataframe tbody tr th:only-of-type {\n",
       "        vertical-align: middle;\n",
       "    }\n",
       "\n",
       "    .dataframe tbody tr th {\n",
       "        vertical-align: top;\n",
       "    }\n",
       "\n",
       "    .dataframe thead th {\n",
       "        text-align: right;\n",
       "    }\n",
       "</style>\n",
       "<table border=\"1\" class=\"dataframe\">\n",
       "  <thead>\n",
       "    <tr style=\"text-align: right;\">\n",
       "      <th></th>\n",
       "      <th>chroma_stft_mean</th>\n",
       "      <th>chroma_stft_var</th>\n",
       "      <th>rms_mean</th>\n",
       "      <th>rms_var</th>\n",
       "      <th>spectral_centroid_mean</th>\n",
       "      <th>spectral_centroid_var</th>\n",
       "      <th>spectral_bandwidth_mean</th>\n",
       "      <th>spectral_bandwidth_var</th>\n",
       "      <th>rolloff_mean</th>\n",
       "      <th>rolloff_var</th>\n",
       "      <th>...</th>\n",
       "      <th>mfcc16_mean</th>\n",
       "      <th>mfcc16_var</th>\n",
       "      <th>mfcc17_mean</th>\n",
       "      <th>mfcc17_var</th>\n",
       "      <th>mfcc18_mean</th>\n",
       "      <th>mfcc18_var</th>\n",
       "      <th>mfcc19_mean</th>\n",
       "      <th>mfcc19_var</th>\n",
       "      <th>mfcc20_mean</th>\n",
       "      <th>mfcc20_var</th>\n",
       "    </tr>\n",
       "  </thead>\n",
       "  <tbody>\n",
       "    <tr>\n",
       "      <th>0</th>\n",
       "      <td>0.335406</td>\n",
       "      <td>0.091048</td>\n",
       "      <td>0.130405</td>\n",
       "      <td>0.003521</td>\n",
       "      <td>1773.065032</td>\n",
       "      <td>167541.630869</td>\n",
       "      <td>1972.744388</td>\n",
       "      <td>117335.771563</td>\n",
       "      <td>3714.560359</td>\n",
       "      <td>1.080790e+06</td>\n",
       "      <td>...</td>\n",
       "      <td>-2.853603</td>\n",
       "      <td>39.687145</td>\n",
       "      <td>-3.241280</td>\n",
       "      <td>36.488243</td>\n",
       "      <td>0.722209</td>\n",
       "      <td>38.099152</td>\n",
       "      <td>-5.050335</td>\n",
       "      <td>33.618073</td>\n",
       "      <td>-0.243027</td>\n",
       "      <td>43.771767</td>\n",
       "    </tr>\n",
       "    <tr>\n",
       "      <th>1</th>\n",
       "      <td>0.343065</td>\n",
       "      <td>0.086147</td>\n",
       "      <td>0.112699</td>\n",
       "      <td>0.001450</td>\n",
       "      <td>1816.693777</td>\n",
       "      <td>90525.690866</td>\n",
       "      <td>2010.051501</td>\n",
       "      <td>65671.875673</td>\n",
       "      <td>3869.682242</td>\n",
       "      <td>6.722448e+05</td>\n",
       "      <td>...</td>\n",
       "      <td>4.074709</td>\n",
       "      <td>64.748276</td>\n",
       "      <td>-6.055294</td>\n",
       "      <td>40.677654</td>\n",
       "      <td>0.159015</td>\n",
       "      <td>51.264091</td>\n",
       "      <td>-2.837699</td>\n",
       "      <td>97.030830</td>\n",
       "      <td>5.784063</td>\n",
       "      <td>59.943081</td>\n",
       "    </tr>\n",
       "    <tr>\n",
       "      <th>2</th>\n",
       "      <td>0.346815</td>\n",
       "      <td>0.092243</td>\n",
       "      <td>0.132003</td>\n",
       "      <td>0.004620</td>\n",
       "      <td>1788.539719</td>\n",
       "      <td>111407.437613</td>\n",
       "      <td>2084.565132</td>\n",
       "      <td>75124.921716</td>\n",
       "      <td>3997.639160</td>\n",
       "      <td>7.907127e+05</td>\n",
       "      <td>...</td>\n",
       "      <td>4.806280</td>\n",
       "      <td>67.336563</td>\n",
       "      <td>-1.768610</td>\n",
       "      <td>28.348579</td>\n",
       "      <td>2.378768</td>\n",
       "      <td>45.717648</td>\n",
       "      <td>-1.938424</td>\n",
       "      <td>53.050835</td>\n",
       "      <td>2.517375</td>\n",
       "      <td>33.105122</td>\n",
       "    </tr>\n",
       "    <tr>\n",
       "      <th>3</th>\n",
       "      <td>0.363639</td>\n",
       "      <td>0.086856</td>\n",
       "      <td>0.132565</td>\n",
       "      <td>0.002448</td>\n",
       "      <td>1655.289045</td>\n",
       "      <td>111952.284517</td>\n",
       "      <td>1960.039988</td>\n",
       "      <td>82913.639269</td>\n",
       "      <td>3568.300218</td>\n",
       "      <td>9.216524e+05</td>\n",
       "      <td>...</td>\n",
       "      <td>-1.359111</td>\n",
       "      <td>47.739452</td>\n",
       "      <td>-3.841155</td>\n",
       "      <td>28.337118</td>\n",
       "      <td>1.218588</td>\n",
       "      <td>34.770935</td>\n",
       "      <td>-3.580352</td>\n",
       "      <td>50.836224</td>\n",
       "      <td>3.630866</td>\n",
       "      <td>32.023678</td>\n",
       "    </tr>\n",
       "    <tr>\n",
       "      <th>4</th>\n",
       "      <td>0.335579</td>\n",
       "      <td>0.088129</td>\n",
       "      <td>0.143289</td>\n",
       "      <td>0.001701</td>\n",
       "      <td>1630.656199</td>\n",
       "      <td>79667.267654</td>\n",
       "      <td>1948.503884</td>\n",
       "      <td>60204.020268</td>\n",
       "      <td>3469.992864</td>\n",
       "      <td>6.102111e+05</td>\n",
       "      <td>...</td>\n",
       "      <td>2.092937</td>\n",
       "      <td>30.336359</td>\n",
       "      <td>0.664582</td>\n",
       "      <td>45.880913</td>\n",
       "      <td>1.689446</td>\n",
       "      <td>51.363583</td>\n",
       "      <td>-3.392489</td>\n",
       "      <td>26.738789</td>\n",
       "      <td>0.536961</td>\n",
       "      <td>29.146694</td>\n",
       "    </tr>\n",
       "  </tbody>\n",
       "</table>\n",
       "<p>5 rows × 57 columns</p>\n",
       "</div>"
      ],
      "text/plain": [
       "   chroma_stft_mean  chroma_stft_var  rms_mean   rms_var  \\\n",
       "0          0.335406         0.091048  0.130405  0.003521   \n",
       "1          0.343065         0.086147  0.112699  0.001450   \n",
       "2          0.346815         0.092243  0.132003  0.004620   \n",
       "3          0.363639         0.086856  0.132565  0.002448   \n",
       "4          0.335579         0.088129  0.143289  0.001701   \n",
       "\n",
       "   spectral_centroid_mean  spectral_centroid_var  spectral_bandwidth_mean  \\\n",
       "0             1773.065032          167541.630869              1972.744388   \n",
       "1             1816.693777           90525.690866              2010.051501   \n",
       "2             1788.539719          111407.437613              2084.565132   \n",
       "3             1655.289045          111952.284517              1960.039988   \n",
       "4             1630.656199           79667.267654              1948.503884   \n",
       "\n",
       "   spectral_bandwidth_var  rolloff_mean   rolloff_var  ...  mfcc16_mean  \\\n",
       "0           117335.771563   3714.560359  1.080790e+06  ...    -2.853603   \n",
       "1            65671.875673   3869.682242  6.722448e+05  ...     4.074709   \n",
       "2            75124.921716   3997.639160  7.907127e+05  ...     4.806280   \n",
       "3            82913.639269   3568.300218  9.216524e+05  ...    -1.359111   \n",
       "4            60204.020268   3469.992864  6.102111e+05  ...     2.092937   \n",
       "\n",
       "   mfcc16_var  mfcc17_mean  mfcc17_var  mfcc18_mean  mfcc18_var  mfcc19_mean  \\\n",
       "0   39.687145    -3.241280   36.488243     0.722209   38.099152    -5.050335   \n",
       "1   64.748276    -6.055294   40.677654     0.159015   51.264091    -2.837699   \n",
       "2   67.336563    -1.768610   28.348579     2.378768   45.717648    -1.938424   \n",
       "3   47.739452    -3.841155   28.337118     1.218588   34.770935    -3.580352   \n",
       "4   30.336359     0.664582   45.880913     1.689446   51.363583    -3.392489   \n",
       "\n",
       "   mfcc19_var  mfcc20_mean  mfcc20_var  \n",
       "0   33.618073    -0.243027   43.771767  \n",
       "1   97.030830     5.784063   59.943081  \n",
       "2   53.050835     2.517375   33.105122  \n",
       "3   50.836224     3.630866   32.023678  \n",
       "4   26.738789     0.536961   29.146694  \n",
       "\n",
       "[5 rows x 57 columns]"
      ]
     },
     "execution_count": 3,
     "metadata": {},
     "output_type": "execute_result"
    }
   ],
   "source": [
    "df = pd.read_csv('../features_3_sec.csv')\n",
    "\n",
    "labels_series = df['label']\n",
    "features_df = df.drop(['filename','length','label'], axis=1)\n",
    "features_df.head()"
   ]
  },
  {
   "cell_type": "code",
   "execution_count": 4,
   "id": "6f2b9a03-b455-49c2-9864-c3e5135d61c5",
   "metadata": {},
   "outputs": [],
   "source": [
    "label_map = {np.unique(labels_series)[i]:i for i in range(10)}\n",
    "labels_series = labels_series.map(lambda i: label_map[i])"
   ]
  },
  {
   "cell_type": "code",
   "execution_count": 5,
   "id": "4f102e88-dc4d-4f6d-8bdc-ea8ebecf52a6",
   "metadata": {},
   "outputs": [
    {
     "data": {
      "text/html": [
       "<div>\n",
       "<style scoped>\n",
       "    .dataframe tbody tr th:only-of-type {\n",
       "        vertical-align: middle;\n",
       "    }\n",
       "\n",
       "    .dataframe tbody tr th {\n",
       "        vertical-align: top;\n",
       "    }\n",
       "\n",
       "    .dataframe thead th {\n",
       "        text-align: right;\n",
       "    }\n",
       "</style>\n",
       "<table border=\"1\" class=\"dataframe\">\n",
       "  <thead>\n",
       "    <tr style=\"text-align: right;\">\n",
       "      <th></th>\n",
       "      <th>0</th>\n",
       "      <th>1</th>\n",
       "      <th>2</th>\n",
       "      <th>3</th>\n",
       "      <th>4</th>\n",
       "      <th>5</th>\n",
       "      <th>6</th>\n",
       "      <th>7</th>\n",
       "      <th>8</th>\n",
       "      <th>9</th>\n",
       "      <th>...</th>\n",
       "      <th>47</th>\n",
       "      <th>48</th>\n",
       "      <th>49</th>\n",
       "      <th>50</th>\n",
       "      <th>51</th>\n",
       "      <th>52</th>\n",
       "      <th>53</th>\n",
       "      <th>54</th>\n",
       "      <th>55</th>\n",
       "      <th>56</th>\n",
       "    </tr>\n",
       "  </thead>\n",
       "  <tbody>\n",
       "    <tr>\n",
       "      <th>0</th>\n",
       "      <td>-0.487808</td>\n",
       "      <td>0.640520</td>\n",
       "      <td>-0.006624</td>\n",
       "      <td>0.235568</td>\n",
       "      <td>-0.566828</td>\n",
       "      <td>-0.572791</td>\n",
       "      <td>-0.493983</td>\n",
       "      <td>-0.009229</td>\n",
       "      <td>-0.518590</td>\n",
       "      <td>-0.367952</td>\n",
       "      <td>...</td>\n",
       "      <td>-0.750122</td>\n",
       "      <td>-0.299108</td>\n",
       "      <td>0.168647</td>\n",
       "      <td>-0.425137</td>\n",
       "      <td>-0.003423</td>\n",
       "      <td>-0.376938</td>\n",
       "      <td>-0.499464</td>\n",
       "      <td>-0.513562</td>\n",
       "      <td>0.128414</td>\n",
       "      <td>-0.291781</td>\n",
       "    </tr>\n",
       "    <tr>\n",
       "      <th>1</th>\n",
       "      <td>-0.403142</td>\n",
       "      <td>0.131835</td>\n",
       "      <td>-0.264944</td>\n",
       "      <td>-0.342134</td>\n",
       "      <td>-0.508798</td>\n",
       "      <td>-0.749862</td>\n",
       "      <td>-0.425382</td>\n",
       "      <td>-0.519010</td>\n",
       "      <td>-0.424118</td>\n",
       "      <td>-0.642268</td>\n",
       "      <td>...</td>\n",
       "      <td>0.457983</td>\n",
       "      <td>0.428544</td>\n",
       "      <td>-0.327031</td>\n",
       "      <td>-0.310040</td>\n",
       "      <td>-0.112125</td>\n",
       "      <td>-0.032083</td>\n",
       "      <td>-0.066593</td>\n",
       "      <td>1.011384</td>\n",
       "      <td>1.275780</td>\n",
       "      <td>0.056425</td>\n",
       "    </tr>\n",
       "    <tr>\n",
       "      <th>2</th>\n",
       "      <td>-0.361694</td>\n",
       "      <td>0.764491</td>\n",
       "      <td>0.016695</td>\n",
       "      <td>0.542195</td>\n",
       "      <td>-0.546245</td>\n",
       "      <td>-0.701852</td>\n",
       "      <td>-0.288365</td>\n",
       "      <td>-0.425734</td>\n",
       "      <td>-0.346190</td>\n",
       "      <td>-0.562723</td>\n",
       "      <td>...</td>\n",
       "      <td>0.585548</td>\n",
       "      <td>0.503695</td>\n",
       "      <td>0.428053</td>\n",
       "      <td>-0.648762</td>\n",
       "      <td>0.316311</td>\n",
       "      <td>-0.177372</td>\n",
       "      <td>0.109337</td>\n",
       "      <td>-0.046244</td>\n",
       "      <td>0.653907</td>\n",
       "      <td>-0.521458</td>\n",
       "    </tr>\n",
       "    <tr>\n",
       "      <th>3</th>\n",
       "      <td>-0.175714</td>\n",
       "      <td>0.205477</td>\n",
       "      <td>0.024885</td>\n",
       "      <td>-0.063820</td>\n",
       "      <td>-0.723482</td>\n",
       "      <td>-0.700599</td>\n",
       "      <td>-0.517344</td>\n",
       "      <td>-0.348881</td>\n",
       "      <td>-0.607665</td>\n",
       "      <td>-0.474804</td>\n",
       "      <td>...</td>\n",
       "      <td>-0.489524</td>\n",
       "      <td>-0.065309</td>\n",
       "      <td>0.062981</td>\n",
       "      <td>-0.649076</td>\n",
       "      <td>0.092384</td>\n",
       "      <td>-0.464121</td>\n",
       "      <td>-0.211882</td>\n",
       "      <td>-0.099501</td>\n",
       "      <td>0.865880</td>\n",
       "      <td>-0.544744</td>\n",
       "    </tr>\n",
       "    <tr>\n",
       "      <th>4</th>\n",
       "      <td>-0.485895</td>\n",
       "      <td>0.337521</td>\n",
       "      <td>0.181345</td>\n",
       "      <td>-0.272072</td>\n",
       "      <td>-0.756246</td>\n",
       "      <td>-0.774827</td>\n",
       "      <td>-0.538557</td>\n",
       "      <td>-0.572962</td>\n",
       "      <td>-0.667537</td>\n",
       "      <td>-0.683920</td>\n",
       "      <td>...</td>\n",
       "      <td>0.112417</td>\n",
       "      <td>-0.570609</td>\n",
       "      <td>0.856651</td>\n",
       "      <td>-0.167089</td>\n",
       "      <td>0.183265</td>\n",
       "      <td>-0.029476</td>\n",
       "      <td>-0.175130</td>\n",
       "      <td>-0.678995</td>\n",
       "      <td>0.276899</td>\n",
       "      <td>-0.606692</td>\n",
       "    </tr>\n",
       "  </tbody>\n",
       "</table>\n",
       "<p>5 rows × 57 columns</p>\n",
       "</div>"
      ],
      "text/plain": [
       "         0         1         2         3         4         5         6   \\\n",
       "0 -0.487808  0.640520 -0.006624  0.235568 -0.566828 -0.572791 -0.493983   \n",
       "1 -0.403142  0.131835 -0.264944 -0.342134 -0.508798 -0.749862 -0.425382   \n",
       "2 -0.361694  0.764491  0.016695  0.542195 -0.546245 -0.701852 -0.288365   \n",
       "3 -0.175714  0.205477  0.024885 -0.063820 -0.723482 -0.700599 -0.517344   \n",
       "4 -0.485895  0.337521  0.181345 -0.272072 -0.756246 -0.774827 -0.538557   \n",
       "\n",
       "         7         8         9   ...        47        48        49        50  \\\n",
       "0 -0.009229 -0.518590 -0.367952  ... -0.750122 -0.299108  0.168647 -0.425137   \n",
       "1 -0.519010 -0.424118 -0.642268  ...  0.457983  0.428544 -0.327031 -0.310040   \n",
       "2 -0.425734 -0.346190 -0.562723  ...  0.585548  0.503695  0.428053 -0.648762   \n",
       "3 -0.348881 -0.607665 -0.474804  ... -0.489524 -0.065309  0.062981 -0.649076   \n",
       "4 -0.572962 -0.667537 -0.683920  ...  0.112417 -0.570609  0.856651 -0.167089   \n",
       "\n",
       "         51        52        53        54        55        56  \n",
       "0 -0.003423 -0.376938 -0.499464 -0.513562  0.128414 -0.291781  \n",
       "1 -0.112125 -0.032083 -0.066593  1.011384  1.275780  0.056425  \n",
       "2  0.316311 -0.177372  0.109337 -0.046244  0.653907 -0.521458  \n",
       "3  0.092384 -0.464121 -0.211882 -0.099501  0.865880 -0.544744  \n",
       "4  0.183265 -0.029476 -0.175130 -0.678995  0.276899 -0.606692  \n",
       "\n",
       "[5 rows x 57 columns]"
      ]
     },
     "execution_count": 5,
     "metadata": {},
     "output_type": "execute_result"
    }
   ],
   "source": [
    "features_scaled_nparray = StandardScaler().fit_transform(features_df)\n",
    "features_scaled_df = pd.DataFrame(features_scaled_nparray)\n",
    "features_scaled_df.head()"
   ]
  },
  {
   "cell_type": "markdown",
   "id": "65bc791b-9bac-4cc4-ac54-dbd03a19f248",
   "metadata": {},
   "source": [
    "# KNN Training"
   ]
  },
  {
   "cell_type": "code",
   "execution_count": 6,
   "id": "09760541-f4e9-4c7d-af63-7b1b233b31f1",
   "metadata": {},
   "outputs": [],
   "source": [
    "X_train,X_test,y_train,y_test = train_test_split(features_scaled_df, labels_series, test_size = 0.2)"
   ]
  },
  {
   "cell_type": "code",
   "execution_count": 7,
   "id": "a03f64a7-0383-4eef-88b1-086080763dcd",
   "metadata": {},
   "outputs": [
    {
     "name": "stdout",
     "output_type": "stream",
     "text": [
      "(7992, 57)\n",
      "(1998, 57)\n"
     ]
    }
   ],
   "source": [
    "print(X_train.shape)\n",
    "print(X_test.shape)"
   ]
  },
  {
   "cell_type": "code",
   "execution_count": 8,
   "id": "eb91a4b2-3b5f-4bb5-80ad-4308787d1616",
   "metadata": {},
   "outputs": [
    {
     "name": "stdout",
     "output_type": "stream",
     "text": [
      "Best Model = KNeighborsClassifier(n_neighbors=1, p=1) Best k = 1 Best Accuracy = 0.9279279279279279\n"
     ]
    }
   ],
   "source": [
    "scores_list1 = []\n",
    "scores_list2 = []\n",
    "best_model = None\n",
    "best_accuracy = 0\n",
    "kstar = None\n",
    "pstar = None\n",
    "for p in range(1,3):\n",
    "    for k in range(1,16): \n",
    "        knn = KNeighborsClassifier(n_neighbors=k, p=p)\n",
    "        knn.fit(X_train,y_train)\n",
    "        y_pred=knn.predict(X_test)\n",
    "        test_acc = accuracy_score(y_test,y_pred)\n",
    "        if p == 1:\n",
    "            scores_list1.append(test_acc)\n",
    "        else:\n",
    "            scores_list2.append(test_acc)\n",
    "        if test_acc > best_accuracy: # and k >= 5:\n",
    "            best_model = knn\n",
    "            best_accuracy = test_acc\n",
    "            kstar = k\n",
    "            pstar = p\n",
    "print(f'Best Model = {best_model} Best k = {kstar} Best Accuracy = {best_accuracy}')"
   ]
  },
  {
   "cell_type": "markdown",
   "id": "3d46a17c-37fb-40d6-a966-f007b33b55ab",
   "metadata": {},
   "source": [
    "# Optimal Hyperparameters"
   ]
  },
  {
   "cell_type": "code",
   "execution_count": 9,
   "id": "6a1d504b-fcd3-496b-8977-b9bc7212548e",
   "metadata": {},
   "outputs": [
    {
     "data": {
      "text/plain": [
       "Text(0.5, 1.0, 'Test Accuracy With Distance Measure: Manhattan')"
      ]
     },
     "execution_count": 9,
     "metadata": {},
     "output_type": "execute_result"
    },
    {
     "data": {
      "image/png": "[encoded data removed]",
      "text/plain": [
       "<Figure size 720x576 with 1 Axes>"
      ]
     },
     "metadata": {},
     "output_type": "display_data"
    }
   ],
   "source": [
    "plt.plot(range(1,16),scores_list1)\n",
    "plt.xlabel('K Val')\n",
    "plt.ylabel('Accuracy')\n",
    "plt.title('Test Accuracy With Distance Measure: Manhattan')"
   ]
  },
  {
   "cell_type": "code",
   "execution_count": 10,
   "id": "2c0b9f1e-afdc-4ea7-bf7b-914fd19f8497",
   "metadata": {},
   "outputs": [
    {
     "data": {
      "text/plain": [
       "Text(0.5, 1.0, 'Test Accuracy With Distance Measure: Euclidean')"
      ]
     },
     "execution_count": 10,
     "metadata": {},
     "output_type": "execute_result"
    },
    {
     "data": {
      "image/png": "[encoded data removed]",
      "text/plain": [
       "<Figure size 720x576 with 1 Axes>"
      ]
     },
     "metadata": {},
     "output_type": "display_data"
    }
   ],
   "source": [
    "plt.plot(range(1,16),scores_list2)\n",
    "plt.xlabel('K Val')\n",
    "plt.ylabel('Accuracy')\n",
    "plt.title('Test Accuracy With Distance Measure: Euclidean')"
   ]
  },
  {
   "cell_type": "markdown",
   "id": "e29193f1-1340-4168-ae54-f1b3516f8028",
   "metadata": {},
   "source": [
    "# Confusion Matrix"
   ]
  },
  {
   "cell_type": "code",
   "execution_count": 11,
   "id": "a44e08d0-0370-4e4c-9e80-f057661119b6",
   "metadata": {},
   "outputs": [
    {
     "data": {
      "text/plain": [
       "<sklearn.metrics._plot.confusion_matrix.ConfusionMatrixDisplay at 0x7f6579569910>"
      ]
     },
     "execution_count": 11,
     "metadata": {},
     "output_type": "execute_result"
    },
    {
     "data": {
      "image/png": "[encoded data removed]",
      "text/plain": [
       "<Figure size 720x576 with 2 Axes>"
      ]
     },
     "metadata": {},
     "output_type": "display_data"
    }
   ],
   "source": [
    "preds = best_model.predict(X_test)\n",
    "accuracy = accuracy_score(preds, y_test)\n",
    "confusion_mat = confusion_matrix(preds, y_test)\n",
    "disp = ConfusionMatrixDisplay(confusion_matrix=confusion_mat)\n",
    "disp.plot()"
   ]
  },
  {
   "cell_type": "markdown",
   "id": "5adcc937-2be6-449d-9530-1a3f2de016b1",
   "metadata": {},
   "source": [
    "# Real Talk: How am I not Overfitting??? I'll take it though"
   ]
  },
  {
   "cell_type": "code",
   "execution_count": 12,
   "id": "be164d0b-7e4c-48d6-be08-95cad63a3dba",
   "metadata": {},
   "outputs": [
    {
     "name": "stdout",
     "output_type": "stream",
     "text": [
      "Test Acc: 0.9279279279279279 Train Acc: 0.9992492492492493\n"
     ]
    }
   ],
   "source": [
    "train_y_pred = best_model.predict(X_train)\n",
    "train_acc = accuracy_score(y_train, train_y_pred)\n",
    "print(f\"Test Acc: {best_accuracy} Train Acc: {train_acc}\")"
   ]
  },
  {
   "cell_type": "markdown",
   "id": "32f78c04-e251-4cae-b994-33d7aa7ca606",
   "metadata": {},
   "source": [
    "# Accuracy For Predicting Each Label (Code from Daniel <3)"
   ]
  },
  {
   "cell_type": "code",
   "execution_count": 13,
   "id": "e0cee7cc-745a-4f0f-b0f8-f3faa080dcbb",
   "metadata": {},
   "outputs": [
    {
     "name": "stdout",
     "output_type": "stream",
     "text": [
      "       label  accuracy\n",
      "8     reggae  0.958333\n",
      "1  classical  0.957895\n",
      "6      metal  0.957447\n",
      "7        pop  0.938889\n",
      "4     hiphop  0.938095\n",
      "3      disco  0.934579\n",
      "0      blues  0.930481\n",
      "5       jazz  0.920188\n",
      "9       rock  0.893519\n",
      "2    country  0.847826\n"
     ]
    },
    {
     "data": {
      "text/plain": [
       "<BarContainer object of 10 artists>"
      ]
     },
     "execution_count": 13,
     "metadata": {},
     "output_type": "execute_result"
    },
    {
     "data": {
      "image/png": "[encoded data removed]",
      "text/plain": [
       "<Figure size 720x576 with 1 Axes>"
      ]
     },
     "metadata": {},
     "output_type": "display_data"
    }
   ],
   "source": [
    "diag_entries = [confusion_mat[i,i] for i in range(len(confusion_mat))]\n",
    "class_accuracy = diag_entries / np.sum(confusion_mat, axis=0)\n",
    "label_names = list(label_map.keys())\n",
    "\n",
    "acc_df = pd.DataFrame({'label':label_names, 'accuracy':class_accuracy})\n",
    "acc_df = acc_df.sort_values(by='accuracy', ascending=False)\n",
    "print(acc_df)\n",
    "\n",
    "plt.xlabel('Genre')\n",
    "plt.ylabel('Accuracy of classifier')\n",
    "\n",
    "plt.yticks(np.arange(0,1.05,step=0.1))\n",
    "\n",
    "plt.title('Accuracy of classifier by genre')\n",
    "plt.bar(acc_df['label'], acc_df['accuracy'])"
   ]
  }
 ],
 "metadata": {
  "kernelspec": {
   "display_name": "Python 3 (ipykernel)",
   "language": "python",
   "name": "python3"
  },
  "language_info": {
   "codemirror_mode": {
    "name": "ipython",
    "version": 3
   },
   "file_extension": ".py",
   "mimetype": "text/x-python",
   "name": "python",
   "nbconvert_exporter": "python",
   "pygments_lexer": "ipython3",
   "version": "3.8.10"
  }
 },
 "nbformat": 4,
 "nbformat_minor": 5
}
