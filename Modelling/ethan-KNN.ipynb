{
 "cells": [
  {
   "cell_type": "markdown",
   "id": "39986620-77ca-4850-8140-895db95bb58b",
   "metadata": {},
   "source": [
    "# K Nearest Neighbor Modeling"
   ]
  },
  {
   "cell_type": "code",
   "execution_count": 3,
   "id": "a1da715d-f18a-4d72-a398-a6f3e2b41d45",
   "metadata": {},
   "outputs": [],
   "source": [
    "import pandas as pd\n",
    "import numpy as np\n",
    "\n",
    "from sklearn.neighbors import KNeighborsClassifier\n",
    "from sklearn.preprocessing import StandardScaler\n",
    "from sklearn.model_selection import train_test_split\n",
    "from sklearn.metrics import accuracy_score, confusion_matrix, ConfusionMatrixDisplay\n",
    "\n",
    "import matplotlib.pyplot as plt\n",
    "import seaborn as sns"
   ]
  },
  {
   "cell_type": "code",
   "execution_count": 4,
   "id": "568d5588-c19f-418b-b128-a70ff497d633",
   "metadata": {},
   "outputs": [],
   "source": [
    "sns.set(style='white', context='notebook', rc={'figure.figsize':(10,8)})"
   ]
  },
  {
   "cell_type": "markdown",
   "id": "298e7ea7-dbf9-4529-bfcc-e7e70d6d891c",
   "metadata": {},
   "source": [
    "# Label/Feature Split"
   ]
  },
  {
   "cell_type": "code",
   "execution_count": 5,
   "id": "e2083f91-9a2d-4390-a9ad-e96ee72a8771",
   "metadata": {},
   "outputs": [
    {
     "data": {
      "text/html": [
       "<div>\n",
       "<style scoped>\n",
       "    .dataframe tbody tr th:only-of-type {\n",
       "        vertical-align: middle;\n",
       "    }\n",
       "\n",
       "    .dataframe tbody tr th {\n",
       "        vertical-align: top;\n",
       "    }\n",
       "\n",
       "    .dataframe thead th {\n",
       "        text-align: right;\n",
       "    }\n",
       "</style>\n",
       "<table border=\"1\" class=\"dataframe\">\n",
       "  <thead>\n",
       "    <tr style=\"text-align: right;\">\n",
       "      <th></th>\n",
       "      <th>chroma_stft_mean</th>\n",
       "      <th>chroma_stft_var</th>\n",
       "      <th>rms_mean</th>\n",
       "      <th>rms_var</th>\n",
       "      <th>spectral_centroid_mean</th>\n",
       "      <th>spectral_centroid_var</th>\n",
       "      <th>spectral_bandwidth_mean</th>\n",
       "      <th>spectral_bandwidth_var</th>\n",
       "      <th>rolloff_mean</th>\n",
       "      <th>rolloff_var</th>\n",
       "      <th>...</th>\n",
       "      <th>mfcc16_mean</th>\n",
       "      <th>mfcc16_var</th>\n",
       "      <th>mfcc17_mean</th>\n",
       "      <th>mfcc17_var</th>\n",
       "      <th>mfcc18_mean</th>\n",
       "      <th>mfcc18_var</th>\n",
       "      <th>mfcc19_mean</th>\n",
       "      <th>mfcc19_var</th>\n",
       "      <th>mfcc20_mean</th>\n",
       "      <th>mfcc20_var</th>\n",
       "    </tr>\n",
       "  </thead>\n",
       "  <tbody>\n",
       "    <tr>\n",
       "      <th>0</th>\n",
       "      <td>0.350088</td>\n",
       "      <td>0.088757</td>\n",
       "      <td>0.130228</td>\n",
       "      <td>0.002827</td>\n",
       "      <td>1784.165850</td>\n",
       "      <td>129774.064525</td>\n",
       "      <td>2002.449060</td>\n",
       "      <td>85882.761315</td>\n",
       "      <td>3805.839606</td>\n",
       "      <td>9.015054e+05</td>\n",
       "      <td>...</td>\n",
       "      <td>0.752740</td>\n",
       "      <td>52.420910</td>\n",
       "      <td>-1.690215</td>\n",
       "      <td>36.524071</td>\n",
       "      <td>-0.408979</td>\n",
       "      <td>41.597103</td>\n",
       "      <td>-2.303523</td>\n",
       "      <td>55.062923</td>\n",
       "      <td>1.221291</td>\n",
       "      <td>46.936035</td>\n",
       "    </tr>\n",
       "    <tr>\n",
       "      <th>1</th>\n",
       "      <td>0.340914</td>\n",
       "      <td>0.094980</td>\n",
       "      <td>0.095948</td>\n",
       "      <td>0.002373</td>\n",
       "      <td>1530.176679</td>\n",
       "      <td>375850.073649</td>\n",
       "      <td>2039.036516</td>\n",
       "      <td>213843.755497</td>\n",
       "      <td>3550.522098</td>\n",
       "      <td>2.977893e+06</td>\n",
       "      <td>...</td>\n",
       "      <td>0.927998</td>\n",
       "      <td>55.356403</td>\n",
       "      <td>-0.731125</td>\n",
       "      <td>60.314529</td>\n",
       "      <td>0.295073</td>\n",
       "      <td>48.120598</td>\n",
       "      <td>-0.283518</td>\n",
       "      <td>51.106190</td>\n",
       "      <td>0.531217</td>\n",
       "      <td>45.786282</td>\n",
       "    </tr>\n",
       "    <tr>\n",
       "      <th>2</th>\n",
       "      <td>0.363637</td>\n",
       "      <td>0.085275</td>\n",
       "      <td>0.175570</td>\n",
       "      <td>0.002746</td>\n",
       "      <td>1552.811865</td>\n",
       "      <td>156467.643368</td>\n",
       "      <td>1747.702312</td>\n",
       "      <td>76254.192257</td>\n",
       "      <td>3042.260232</td>\n",
       "      <td>7.840345e+05</td>\n",
       "      <td>...</td>\n",
       "      <td>2.451690</td>\n",
       "      <td>40.598766</td>\n",
       "      <td>-7.729093</td>\n",
       "      <td>47.639427</td>\n",
       "      <td>-1.816407</td>\n",
       "      <td>52.382141</td>\n",
       "      <td>-3.439720</td>\n",
       "      <td>46.639660</td>\n",
       "      <td>-2.231258</td>\n",
       "      <td>30.573025</td>\n",
       "    </tr>\n",
       "    <tr>\n",
       "      <th>3</th>\n",
       "      <td>0.404785</td>\n",
       "      <td>0.093999</td>\n",
       "      <td>0.141093</td>\n",
       "      <td>0.006346</td>\n",
       "      <td>1070.106615</td>\n",
       "      <td>184355.942417</td>\n",
       "      <td>1596.412872</td>\n",
       "      <td>166441.494769</td>\n",
       "      <td>2184.745799</td>\n",
       "      <td>1.493194e+06</td>\n",
       "      <td>...</td>\n",
       "      <td>0.780874</td>\n",
       "      <td>44.427753</td>\n",
       "      <td>-3.319597</td>\n",
       "      <td>50.206673</td>\n",
       "      <td>0.636965</td>\n",
       "      <td>37.319130</td>\n",
       "      <td>-0.619121</td>\n",
       "      <td>37.259739</td>\n",
       "      <td>-3.407448</td>\n",
       "      <td>31.949339</td>\n",
       "    </tr>\n",
       "    <tr>\n",
       "      <th>4</th>\n",
       "      <td>0.308526</td>\n",
       "      <td>0.087841</td>\n",
       "      <td>0.091529</td>\n",
       "      <td>0.002303</td>\n",
       "      <td>1835.004266</td>\n",
       "      <td>343399.939274</td>\n",
       "      <td>1748.172116</td>\n",
       "      <td>88445.209036</td>\n",
       "      <td>3579.757627</td>\n",
       "      <td>1.572978e+06</td>\n",
       "      <td>...</td>\n",
       "      <td>-4.520576</td>\n",
       "      <td>86.099236</td>\n",
       "      <td>-5.454034</td>\n",
       "      <td>75.269707</td>\n",
       "      <td>-0.916874</td>\n",
       "      <td>53.613918</td>\n",
       "      <td>-4.404827</td>\n",
       "      <td>62.910812</td>\n",
       "      <td>-11.703234</td>\n",
       "      <td>55.195160</td>\n",
       "    </tr>\n",
       "  </tbody>\n",
       "</table>\n",
       "<p>5 rows × 57 columns</p>\n",
       "</div>"
      ],
      "text/plain": [
       "   chroma_stft_mean  chroma_stft_var  rms_mean   rms_var  \\\n",
       "0          0.350088         0.088757  0.130228  0.002827   \n",
       "1          0.340914         0.094980  0.095948  0.002373   \n",
       "2          0.363637         0.085275  0.175570  0.002746   \n",
       "3          0.404785         0.093999  0.141093  0.006346   \n",
       "4          0.308526         0.087841  0.091529  0.002303   \n",
       "\n",
       "   spectral_centroid_mean  spectral_centroid_var  spectral_bandwidth_mean  \\\n",
       "0             1784.165850          129774.064525              2002.449060   \n",
       "1             1530.176679          375850.073649              2039.036516   \n",
       "2             1552.811865          156467.643368              1747.702312   \n",
       "3             1070.106615          184355.942417              1596.412872   \n",
       "4             1835.004266          343399.939274              1748.172116   \n",
       "\n",
       "   spectral_bandwidth_var  rolloff_mean   rolloff_var  ...  mfcc16_mean  \\\n",
       "0            85882.761315   3805.839606  9.015054e+05  ...     0.752740   \n",
       "1           213843.755497   3550.522098  2.977893e+06  ...     0.927998   \n",
       "2            76254.192257   3042.260232  7.840345e+05  ...     2.451690   \n",
       "3           166441.494769   2184.745799  1.493194e+06  ...     0.780874   \n",
       "4            88445.209036   3579.757627  1.572978e+06  ...    -4.520576   \n",
       "\n",
       "   mfcc16_var  mfcc17_mean  mfcc17_var  mfcc18_mean  mfcc18_var  mfcc19_mean  \\\n",
       "0   52.420910    -1.690215   36.524071    -0.408979   41.597103    -2.303523   \n",
       "1   55.356403    -0.731125   60.314529     0.295073   48.120598    -0.283518   \n",
       "2   40.598766    -7.729093   47.639427    -1.816407   52.382141    -3.439720   \n",
       "3   44.427753    -3.319597   50.206673     0.636965   37.319130    -0.619121   \n",
       "4   86.099236    -5.454034   75.269707    -0.916874   53.613918    -4.404827   \n",
       "\n",
       "   mfcc19_var  mfcc20_mean  mfcc20_var  \n",
       "0   55.062923     1.221291   46.936035  \n",
       "1   51.106190     0.531217   45.786282  \n",
       "2   46.639660    -2.231258   30.573025  \n",
       "3   37.259739    -3.407448   31.949339  \n",
       "4   62.910812   -11.703234   55.195160  \n",
       "\n",
       "[5 rows x 57 columns]"
      ]
     },
     "execution_count": 5,
     "metadata": {},
     "output_type": "execute_result"
    }
   ],
   "source": [
    "df = pd.read_csv('../features_30_sec.csv')\n",
    "\n",
    "labels_series = df['label']\n",
    "features_df = df.drop(['filename','length','label'], axis=1)\n",
    "features_df.head()"
   ]
  },
  {
   "cell_type": "code",
   "execution_count": 6,
   "id": "6f2b9a03-b455-49c2-9864-c3e5135d61c5",
   "metadata": {},
   "outputs": [],
   "source": [
    "label_map = {np.unique(labels_series)[i]:i for i in range(10)}\n",
    "labels_series = labels_series.map(lambda i: label_map[i])"
   ]
  },
  {
   "cell_type": "code",
   "execution_count": 7,
   "id": "4f102e88-dc4d-4f6d-8bdc-ea8ebecf52a6",
   "metadata": {},
   "outputs": [
    {
     "data": {
      "text/html": [
       "<div>\n",
       "<style scoped>\n",
       "    .dataframe tbody tr th:only-of-type {\n",
       "        vertical-align: middle;\n",
       "    }\n",
       "\n",
       "    .dataframe tbody tr th {\n",
       "        vertical-align: top;\n",
       "    }\n",
       "\n",
       "    .dataframe thead th {\n",
       "        text-align: right;\n",
       "    }\n",
       "</style>\n",
       "<table border=\"1\" class=\"dataframe\">\n",
       "  <thead>\n",
       "    <tr style=\"text-align: right;\">\n",
       "      <th></th>\n",
       "      <th>0</th>\n",
       "      <th>1</th>\n",
       "      <th>2</th>\n",
       "      <th>3</th>\n",
       "      <th>4</th>\n",
       "      <th>5</th>\n",
       "      <th>6</th>\n",
       "      <th>7</th>\n",
       "      <th>8</th>\n",
       "      <th>9</th>\n",
       "      <th>...</th>\n",
       "      <th>47</th>\n",
       "      <th>48</th>\n",
       "      <th>49</th>\n",
       "      <th>50</th>\n",
       "      <th>51</th>\n",
       "      <th>52</th>\n",
       "      <th>53</th>\n",
       "      <th>54</th>\n",
       "      <th>55</th>\n",
       "      <th>56</th>\n",
       "    </tr>\n",
       "  </thead>\n",
       "  <tbody>\n",
       "    <tr>\n",
       "      <th>0</th>\n",
       "      <td>-0.350137</td>\n",
       "      <td>0.312587</td>\n",
       "      <td>-0.010690</td>\n",
       "      <td>-0.061856</td>\n",
       "      <td>-0.583585</td>\n",
       "      <td>-0.848311</td>\n",
       "      <td>-0.456402</td>\n",
       "      <td>-0.531042</td>\n",
       "      <td>-0.486473</td>\n",
       "      <td>-0.661934</td>\n",
       "      <td>...</td>\n",
       "      <td>-0.086396</td>\n",
       "      <td>-0.246114</td>\n",
       "      <td>0.500462</td>\n",
       "      <td>-0.780265</td>\n",
       "      <td>-0.237040</td>\n",
       "      <td>-0.643177</td>\n",
       "      <td>0.006723</td>\n",
       "      <td>-0.300597</td>\n",
       "      <td>0.604064</td>\n",
       "      <td>-0.512988</td>\n",
       "    </tr>\n",
       "    <tr>\n",
       "      <th>1</th>\n",
       "      <td>-0.462482</td>\n",
       "      <td>1.117572</td>\n",
       "      <td>-0.532852</td>\n",
       "      <td>-0.186821</td>\n",
       "      <td>-0.938516</td>\n",
       "      <td>-0.234194</td>\n",
       "      <td>-0.386852</td>\n",
       "      <td>0.796252</td>\n",
       "      <td>-0.648681</td>\n",
       "      <td>0.795823</td>\n",
       "      <td>...</td>\n",
       "      <td>-0.048102</td>\n",
       "      <td>-0.159175</td>\n",
       "      <td>0.711371</td>\n",
       "      <td>-0.069304</td>\n",
       "      <td>-0.054982</td>\n",
       "      <td>-0.453456</td>\n",
       "      <td>0.544806</td>\n",
       "      <td>-0.407087</td>\n",
       "      <td>0.424127</td>\n",
       "      <td>-0.538421</td>\n",
       "    </tr>\n",
       "    <tr>\n",
       "      <th>2</th>\n",
       "      <td>-0.184225</td>\n",
       "      <td>-0.137701</td>\n",
       "      <td>0.679978</td>\n",
       "      <td>-0.084093</td>\n",
       "      <td>-0.906885</td>\n",
       "      <td>-0.781694</td>\n",
       "      <td>-0.940663</td>\n",
       "      <td>-0.630916</td>\n",
       "      <td>-0.971592</td>\n",
       "      <td>-0.744406</td>\n",
       "      <td>...</td>\n",
       "      <td>0.284825</td>\n",
       "      <td>-0.596243</td>\n",
       "      <td>-0.827516</td>\n",
       "      <td>-0.448091</td>\n",
       "      <td>-0.600983</td>\n",
       "      <td>-0.329519</td>\n",
       "      <td>-0.295934</td>\n",
       "      <td>-0.527297</td>\n",
       "      <td>-0.296189</td>\n",
       "      <td>-0.874954</td>\n",
       "    </tr>\n",
       "    <tr>\n",
       "      <th>3</th>\n",
       "      <td>0.319639</td>\n",
       "      <td>0.990659</td>\n",
       "      <td>0.154810</td>\n",
       "      <td>0.907029</td>\n",
       "      <td>-1.581429</td>\n",
       "      <td>-0.712095</td>\n",
       "      <td>-1.228256</td>\n",
       "      <td>0.304565</td>\n",
       "      <td>-1.516390</td>\n",
       "      <td>-0.246530</td>\n",
       "      <td>...</td>\n",
       "      <td>-0.080249</td>\n",
       "      <td>-0.482843</td>\n",
       "      <td>0.142153</td>\n",
       "      <td>-0.371370</td>\n",
       "      <td>0.033427</td>\n",
       "      <td>-0.767591</td>\n",
       "      <td>0.455409</td>\n",
       "      <td>-0.779744</td>\n",
       "      <td>-0.602881</td>\n",
       "      <td>-0.844508</td>\n",
       "    </tr>\n",
       "    <tr>\n",
       "      <th>4</th>\n",
       "      <td>-0.859077</td>\n",
       "      <td>0.194163</td>\n",
       "      <td>-0.600165</td>\n",
       "      <td>-0.205909</td>\n",
       "      <td>-0.512542</td>\n",
       "      <td>-0.315178</td>\n",
       "      <td>-0.939770</td>\n",
       "      <td>-0.504463</td>\n",
       "      <td>-0.630107</td>\n",
       "      <td>-0.190517</td>\n",
       "      <td>...</td>\n",
       "      <td>-1.238616</td>\n",
       "      <td>0.751318</td>\n",
       "      <td>-0.327220</td>\n",
       "      <td>0.377620</td>\n",
       "      <td>-0.368375</td>\n",
       "      <td>-0.293696</td>\n",
       "      <td>-0.553016</td>\n",
       "      <td>-0.089383</td>\n",
       "      <td>-2.766009</td>\n",
       "      <td>-0.330287</td>\n",
       "    </tr>\n",
       "  </tbody>\n",
       "</table>\n",
       "<p>5 rows × 57 columns</p>\n",
       "</div>"
      ],
      "text/plain": [
       "         0         1         2         3         4         5         6   \\\n",
       "0 -0.350137  0.312587 -0.010690 -0.061856 -0.583585 -0.848311 -0.456402   \n",
       "1 -0.462482  1.117572 -0.532852 -0.186821 -0.938516 -0.234194 -0.386852   \n",
       "2 -0.184225 -0.137701  0.679978 -0.084093 -0.906885 -0.781694 -0.940663   \n",
       "3  0.319639  0.990659  0.154810  0.907029 -1.581429 -0.712095 -1.228256   \n",
       "4 -0.859077  0.194163 -0.600165 -0.205909 -0.512542 -0.315178 -0.939770   \n",
       "\n",
       "         7         8         9   ...        47        48        49        50  \\\n",
       "0 -0.531042 -0.486473 -0.661934  ... -0.086396 -0.246114  0.500462 -0.780265   \n",
       "1  0.796252 -0.648681  0.795823  ... -0.048102 -0.159175  0.711371 -0.069304   \n",
       "2 -0.630916 -0.971592 -0.744406  ...  0.284825 -0.596243 -0.827516 -0.448091   \n",
       "3  0.304565 -1.516390 -0.246530  ... -0.080249 -0.482843  0.142153 -0.371370   \n",
       "4 -0.504463 -0.630107 -0.190517  ... -1.238616  0.751318 -0.327220  0.377620   \n",
       "\n",
       "         51        52        53        54        55        56  \n",
       "0 -0.237040 -0.643177  0.006723 -0.300597  0.604064 -0.512988  \n",
       "1 -0.054982 -0.453456  0.544806 -0.407087  0.424127 -0.538421  \n",
       "2 -0.600983 -0.329519 -0.295934 -0.527297 -0.296189 -0.874954  \n",
       "3  0.033427 -0.767591  0.455409 -0.779744 -0.602881 -0.844508  \n",
       "4 -0.368375 -0.293696 -0.553016 -0.089383 -2.766009 -0.330287  \n",
       "\n",
       "[5 rows x 57 columns]"
      ]
     },
     "execution_count": 7,
     "metadata": {},
     "output_type": "execute_result"
    }
   ],
   "source": [
    "features_scaled_nparray = StandardScaler().fit_transform(features_df)\n",
    "features_scaled_df = pd.DataFrame(features_scaled_nparray)\n",
    "features_scaled_df.head()"
   ]
  },
  {
   "cell_type": "markdown",
   "id": "65bc791b-9bac-4cc4-ac54-dbd03a19f248",
   "metadata": {},
   "source": [
    "# KNN Training"
   ]
  },
  {
   "cell_type": "code",
   "execution_count": 8,
   "id": "09760541-f4e9-4c7d-af63-7b1b233b31f1",
   "metadata": {},
   "outputs": [],
   "source": [
    "X_train,X_test,y_train,y_test = train_test_split(features_scaled_df, labels_series, test_size = 0.2)"
   ]
  },
  {
   "cell_type": "code",
   "execution_count": 9,
   "id": "a03f64a7-0383-4eef-88b1-086080763dcd",
   "metadata": {},
   "outputs": [
    {
     "name": "stdout",
     "output_type": "stream",
     "text": [
      "(800, 57)\n",
      "(200, 57)\n"
     ]
    }
   ],
   "source": [
    "print(X_train.shape)\n",
    "print(X_test.shape)"
   ]
  },
  {
   "cell_type": "code",
   "execution_count": 16,
   "id": "eb91a4b2-3b5f-4bb5-80ad-4308787d1616",
   "metadata": {},
   "outputs": [
    {
     "name": "stdout",
     "output_type": "stream",
     "text": [
      "Best Model = KNeighborsClassifier(p=1) Best k = 5 Best Accuracy = 0.705\n"
     ]
    }
   ],
   "source": [
    "scores_list1 = []\n",
    "scores_list2 = []\n",
    "best_model = None\n",
    "best_accuracy = 0\n",
    "kstar = None\n",
    "pstar = None\n",
    "for p in range(1,3):\n",
    "    for k in range(2,16): \n",
    "        knn = KNeighborsClassifier(n_neighbors=k, p=p)\n",
    "        knn.fit(X_train,y_train)\n",
    "        y_pred=knn.predict(X_test)\n",
    "        test_acc = accuracy_score(y_test,y_pred)\n",
    "        if p == 1:\n",
    "            scores_list1.append(test_acc)\n",
    "        else:\n",
    "            scores_list2.append(test_acc)\n",
    "        if test_acc > best_accuracy: # and k >= 5:\n",
    "            best_model = knn\n",
    "            best_accuracy = test_acc\n",
    "            kstar = k\n",
    "            pstar = p\n",
    "print(f'Best Model = {best_model} Best k = {kstar} Best Accuracy = {best_accuracy}')"
   ]
  },
  {
   "cell_type": "markdown",
   "id": "3d46a17c-37fb-40d6-a966-f007b33b55ab",
   "metadata": {},
   "source": [
    "# Optimal Hyperparameters"
   ]
  },
  {
   "cell_type": "code",
   "execution_count": 17,
   "id": "6a1d504b-fcd3-496b-8977-b9bc7212548e",
   "metadata": {},
   "outputs": [
    {
     "data": {
      "text/plain": [
       "Text(0.5, 1.0, 'Test Accuracy With Distance Measure: Manhattan')"
      ]
     },
     "execution_count": 17,
     "metadata": {},
     "output_type": "execute_result"
    },
    {
     "data": {
      "image/png": "[encoded data removed]",
      "text/plain": [
       "<Figure size 720x576 with 1 Axes>"
      ]
     },
     "metadata": {},
     "output_type": "display_data"
    }
   ],
   "source": [
    "plt.plot(range(2,16),scores_list1)\n",
    "plt.xlabel('K Val')\n",
    "plt.ylabel('Accuracy')\n",
    "plt.title('Test Accuracy With Distance Measure: Manhattan')"
   ]
  },
  {
   "cell_type": "code",
   "execution_count": 20,
   "id": "2c0b9f1e-afdc-4ea7-bf7b-914fd19f8497",
   "metadata": {},
   "outputs": [
    {
     "data": {
      "text/plain": [
       "Text(0.5, 1.0, 'Test Accuracy With Distance Measure: Euclidean')"
      ]
     },
     "execution_count": 20,
     "metadata": {},
     "output_type": "execute_result"
    },
    {
     "data": {
      "image/png": "[encoded data removed]",
      "text/plain": [
       "<Figure size 720x576 with 1 Axes>"
      ]
     },
     "metadata": {},
     "output_type": "display_data"
    }
   ],
   "source": [
    "plt.plot(range(2,16),scores_list2)\n",
    "plt.xlabel('K Val')\n",
    "plt.ylabel('Accuracy')\n",
    "plt.title('Test Accuracy With Distance Measure: Euclidean')"
   ]
  },
  {
   "cell_type": "markdown",
   "id": "e29193f1-1340-4168-ae54-f1b3516f8028",
   "metadata": {},
   "source": [
    "# Confusion Matrix"
   ]
  },
  {
   "cell_type": "code",
   "execution_count": 21,
   "id": "a44e08d0-0370-4e4c-9e80-f057661119b6",
   "metadata": {},
   "outputs": [
    {
     "data": {
      "text/plain": [
       "<sklearn.metrics._plot.confusion_matrix.ConfusionMatrixDisplay at 0x129f0f760>"
      ]
     },
     "execution_count": 21,
     "metadata": {},
     "output_type": "execute_result"
    },
    {
     "data": {
      "image/png": "[encoded data removed]",
      "text/plain": [
       "<Figure size 720x576 with 2 Axes>"
      ]
     },
     "metadata": {},
     "output_type": "display_data"
    }
   ],
   "source": [
    "preds = best_model.predict(X_test)\n",
    "accuracy = accuracy_score(preds, y_test)\n",
    "confusion_mat = confusion_matrix(preds, y_test)\n",
    "disp = ConfusionMatrixDisplay(confusion_matrix=confusion_mat)\n",
    "disp.plot()"
   ]
  },
  {
   "cell_type": "markdown",
   "id": "5adcc937-2be6-449d-9530-1a3f2de016b1",
   "metadata": {},
   "source": [
    "# Real Talk: How am I not Overfitting??? I'll take it though"
   ]
  },
  {
   "cell_type": "code",
   "execution_count": 22,
   "id": "be164d0b-7e4c-48d6-be08-95cad63a3dba",
   "metadata": {},
   "outputs": [
    {
     "name": "stdout",
     "output_type": "stream",
     "text": [
      "Test Acc: 0.705 Train Acc: 0.80625\n"
     ]
    }
   ],
   "source": [
    "train_y_pred = best_model.predict(X_train)\n",
    "train_acc = accuracy_score(y_train, train_y_pred)\n",
    "print(f\"Test Acc: {best_accuracy} Train Acc: {train_acc}\")"
   ]
  },
  {
   "cell_type": "markdown",
   "id": "32f78c04-e251-4cae-b994-33d7aa7ca606",
   "metadata": {},
   "source": [
    "# Accuracy For Predicting Each Label (Code from Daniel <3)"
   ]
  },
  {
   "cell_type": "code",
   "execution_count": 23,
   "id": "e0cee7cc-745a-4f0f-b0f8-f3faa080dcbb",
   "metadata": {},
   "outputs": [
    {
     "name": "stdout",
     "output_type": "stream",
     "text": [
      "       label  accuracy\n",
      "7        pop  0.923077\n",
      "1  classical  0.894737\n",
      "5       jazz  0.818182\n",
      "2    country  0.809524\n",
      "3      disco  0.789474\n",
      "6      metal  0.700000\n",
      "0      blues  0.695652\n",
      "8     reggae  0.600000\n",
      "9       rock  0.523810\n",
      "4     hiphop  0.352941\n"
     ]
    },
    {
     "data": {
      "text/plain": [
       "<BarContainer object of 10 artists>"
      ]
     },
     "execution_count": 23,
     "metadata": {},
     "output_type": "execute_result"
    },
    {
     "data": {
      "image/png": "[encoded data removed]",
      "text/plain": [
       "<Figure size 720x576 with 1 Axes>"
      ]
     },
     "metadata": {},
     "output_type": "display_data"
    }
   ],
   "source": [
    "diag_entries = [confusion_mat[i,i] for i in range(len(confusion_mat))]\n",
    "class_accuracy = diag_entries / np.sum(confusion_mat, axis=0)\n",
    "label_names = list(label_map.keys())\n",
    "\n",
    "acc_df = pd.DataFrame({'label':label_names, 'accuracy':class_accuracy})\n",
    "acc_df = acc_df.sort_values(by='accuracy', ascending=False)\n",
    "print(acc_df)\n",
    "\n",
    "plt.xlabel('Genre')\n",
    "plt.ylabel('Accuracy of classifier')\n",
    "\n",
    "plt.yticks(np.arange(0,1.05,step=0.1))\n",
    "\n",
    "plt.title('Accuracy of classifier by genre')\n",
    "plt.bar(acc_df['label'], acc_df['accuracy'])"
   ]
  },
  {
   "cell_type": "code",
   "execution_count": null,
   "id": "af503d3e-8bf1-482b-bde5-57392377f451",
   "metadata": {},
   "outputs": [],
   "source": []
  },
  {
   "cell_type": "code",
   "execution_count": null,
   "id": "a84bc2dc-63c2-4a73-a4a1-7c1b97b293f5",
   "metadata": {},
   "outputs": [],
   "source": []
  }
 ],
 "metadata": {
  "kernelspec": {
   "display_name": "Python 3",
   "language": "python",
   "name": "python3"
  },
  "language_info": {
   "codemirror_mode": {
    "name": "ipython",
    "version": 3
   },
   "file_extension": ".py",
   "mimetype": "text/x-python",
   "name": "python",
   "nbconvert_exporter": "python",
   "pygments_lexer": "ipython3",
   "version": "3.8.6"
  }
 },
 "nbformat": 4,
 "nbformat_minor": 5
}
