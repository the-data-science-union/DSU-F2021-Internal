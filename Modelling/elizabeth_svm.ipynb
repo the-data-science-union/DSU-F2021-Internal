{
 "cells": [
  {
   "cell_type": "markdown",
   "metadata": {},
   "source": [
    "# SVM\n",
    "\n",
    "SVM separates data points using the optimal hyperplane with the largest amount of margin. "
   ]
  },
  {
   "cell_type": "code",
   "execution_count": 44,
   "metadata": {},
   "outputs": [],
   "source": [
    "import pandas as pd\n",
    "import seaborn as sns\n",
    "from matplotlib.pyplot import figure\n",
    "%matplotlib inline\n",
    "import matplotlib.pyplot as plt\n",
    "from sklearn.metrics import plot_confusion_matrix, confusion_matrix, accuracy_score\n",
    "import seaborn as sns\n",
    "import numpy as np"
   ]
  },
  {
   "cell_type": "code",
   "execution_count": 45,
   "metadata": {},
   "outputs": [],
   "source": [
    "sns.set(style='white', context='notebook', rc={'figure.figsize':(10,8)})"
   ]
  },
  {
   "cell_type": "code",
   "execution_count": 46,
   "metadata": {},
   "outputs": [],
   "source": [
    "df = pd.read_csv('../features_30_sec.csv')"
   ]
  },
  {
   "cell_type": "code",
   "execution_count": 47,
   "metadata": {},
   "outputs": [
    {
     "data": {
      "text/html": [
       "<div>\n",
       "<style scoped>\n",
       "    .dataframe tbody tr th:only-of-type {\n",
       "        vertical-align: middle;\n",
       "    }\n",
       "\n",
       "    .dataframe tbody tr th {\n",
       "        vertical-align: top;\n",
       "    }\n",
       "\n",
       "    .dataframe thead th {\n",
       "        text-align: right;\n",
       "    }\n",
       "</style>\n",
       "<table border=\"1\" class=\"dataframe\">\n",
       "  <thead>\n",
       "    <tr style=\"text-align: right;\">\n",
       "      <th></th>\n",
       "      <th>filename</th>\n",
       "      <th>length</th>\n",
       "      <th>chroma_stft_mean</th>\n",
       "      <th>chroma_stft_var</th>\n",
       "      <th>rms_mean</th>\n",
       "      <th>rms_var</th>\n",
       "      <th>spectral_centroid_mean</th>\n",
       "      <th>spectral_centroid_var</th>\n",
       "      <th>spectral_bandwidth_mean</th>\n",
       "      <th>spectral_bandwidth_var</th>\n",
       "      <th>...</th>\n",
       "      <th>mfcc16_var</th>\n",
       "      <th>mfcc17_mean</th>\n",
       "      <th>mfcc17_var</th>\n",
       "      <th>mfcc18_mean</th>\n",
       "      <th>mfcc18_var</th>\n",
       "      <th>mfcc19_mean</th>\n",
       "      <th>mfcc19_var</th>\n",
       "      <th>mfcc20_mean</th>\n",
       "      <th>mfcc20_var</th>\n",
       "      <th>label</th>\n",
       "    </tr>\n",
       "  </thead>\n",
       "  <tbody>\n",
       "    <tr>\n",
       "      <th>0</th>\n",
       "      <td>blues.00000.wav</td>\n",
       "      <td>661794</td>\n",
       "      <td>0.350088</td>\n",
       "      <td>0.088757</td>\n",
       "      <td>0.130228</td>\n",
       "      <td>0.002827</td>\n",
       "      <td>1784.165850</td>\n",
       "      <td>129774.064525</td>\n",
       "      <td>2002.449060</td>\n",
       "      <td>85882.761315</td>\n",
       "      <td>...</td>\n",
       "      <td>52.420910</td>\n",
       "      <td>-1.690215</td>\n",
       "      <td>36.524071</td>\n",
       "      <td>-0.408979</td>\n",
       "      <td>41.597103</td>\n",
       "      <td>-2.303523</td>\n",
       "      <td>55.062923</td>\n",
       "      <td>1.221291</td>\n",
       "      <td>46.936035</td>\n",
       "      <td>blues</td>\n",
       "    </tr>\n",
       "    <tr>\n",
       "      <th>1</th>\n",
       "      <td>blues.00001.wav</td>\n",
       "      <td>661794</td>\n",
       "      <td>0.340914</td>\n",
       "      <td>0.094980</td>\n",
       "      <td>0.095948</td>\n",
       "      <td>0.002373</td>\n",
       "      <td>1530.176679</td>\n",
       "      <td>375850.073649</td>\n",
       "      <td>2039.036516</td>\n",
       "      <td>213843.755497</td>\n",
       "      <td>...</td>\n",
       "      <td>55.356403</td>\n",
       "      <td>-0.731125</td>\n",
       "      <td>60.314529</td>\n",
       "      <td>0.295073</td>\n",
       "      <td>48.120598</td>\n",
       "      <td>-0.283518</td>\n",
       "      <td>51.106190</td>\n",
       "      <td>0.531217</td>\n",
       "      <td>45.786282</td>\n",
       "      <td>blues</td>\n",
       "    </tr>\n",
       "    <tr>\n",
       "      <th>2</th>\n",
       "      <td>blues.00002.wav</td>\n",
       "      <td>661794</td>\n",
       "      <td>0.363637</td>\n",
       "      <td>0.085275</td>\n",
       "      <td>0.175570</td>\n",
       "      <td>0.002746</td>\n",
       "      <td>1552.811865</td>\n",
       "      <td>156467.643368</td>\n",
       "      <td>1747.702312</td>\n",
       "      <td>76254.192257</td>\n",
       "      <td>...</td>\n",
       "      <td>40.598766</td>\n",
       "      <td>-7.729093</td>\n",
       "      <td>47.639427</td>\n",
       "      <td>-1.816407</td>\n",
       "      <td>52.382141</td>\n",
       "      <td>-3.439720</td>\n",
       "      <td>46.639660</td>\n",
       "      <td>-2.231258</td>\n",
       "      <td>30.573025</td>\n",
       "      <td>blues</td>\n",
       "    </tr>\n",
       "    <tr>\n",
       "      <th>3</th>\n",
       "      <td>blues.00003.wav</td>\n",
       "      <td>661794</td>\n",
       "      <td>0.404785</td>\n",
       "      <td>0.093999</td>\n",
       "      <td>0.141093</td>\n",
       "      <td>0.006346</td>\n",
       "      <td>1070.106615</td>\n",
       "      <td>184355.942417</td>\n",
       "      <td>1596.412872</td>\n",
       "      <td>166441.494769</td>\n",
       "      <td>...</td>\n",
       "      <td>44.427753</td>\n",
       "      <td>-3.319597</td>\n",
       "      <td>50.206673</td>\n",
       "      <td>0.636965</td>\n",
       "      <td>37.319130</td>\n",
       "      <td>-0.619121</td>\n",
       "      <td>37.259739</td>\n",
       "      <td>-3.407448</td>\n",
       "      <td>31.949339</td>\n",
       "      <td>blues</td>\n",
       "    </tr>\n",
       "    <tr>\n",
       "      <th>4</th>\n",
       "      <td>blues.00004.wav</td>\n",
       "      <td>661794</td>\n",
       "      <td>0.308526</td>\n",
       "      <td>0.087841</td>\n",
       "      <td>0.091529</td>\n",
       "      <td>0.002303</td>\n",
       "      <td>1835.004266</td>\n",
       "      <td>343399.939274</td>\n",
       "      <td>1748.172116</td>\n",
       "      <td>88445.209036</td>\n",
       "      <td>...</td>\n",
       "      <td>86.099236</td>\n",
       "      <td>-5.454034</td>\n",
       "      <td>75.269707</td>\n",
       "      <td>-0.916874</td>\n",
       "      <td>53.613918</td>\n",
       "      <td>-4.404827</td>\n",
       "      <td>62.910812</td>\n",
       "      <td>-11.703234</td>\n",
       "      <td>55.195160</td>\n",
       "      <td>blues</td>\n",
       "    </tr>\n",
       "  </tbody>\n",
       "</table>\n",
       "<p>5 rows × 60 columns</p>\n",
       "</div>"
      ],
      "text/plain": [
       "          filename  length  chroma_stft_mean  chroma_stft_var  rms_mean  \\\n",
       "0  blues.00000.wav  661794          0.350088         0.088757  0.130228   \n",
       "1  blues.00001.wav  661794          0.340914         0.094980  0.095948   \n",
       "2  blues.00002.wav  661794          0.363637         0.085275  0.175570   \n",
       "3  blues.00003.wav  661794          0.404785         0.093999  0.141093   \n",
       "4  blues.00004.wav  661794          0.308526         0.087841  0.091529   \n",
       "\n",
       "    rms_var  spectral_centroid_mean  spectral_centroid_var  \\\n",
       "0  0.002827             1784.165850          129774.064525   \n",
       "1  0.002373             1530.176679          375850.073649   \n",
       "2  0.002746             1552.811865          156467.643368   \n",
       "3  0.006346             1070.106615          184355.942417   \n",
       "4  0.002303             1835.004266          343399.939274   \n",
       "\n",
       "   spectral_bandwidth_mean  spectral_bandwidth_var  ...  mfcc16_var  \\\n",
       "0              2002.449060            85882.761315  ...   52.420910   \n",
       "1              2039.036516           213843.755497  ...   55.356403   \n",
       "2              1747.702312            76254.192257  ...   40.598766   \n",
       "3              1596.412872           166441.494769  ...   44.427753   \n",
       "4              1748.172116            88445.209036  ...   86.099236   \n",
       "\n",
       "   mfcc17_mean  mfcc17_var  mfcc18_mean  mfcc18_var  mfcc19_mean  mfcc19_var  \\\n",
       "0    -1.690215   36.524071    -0.408979   41.597103    -2.303523   55.062923   \n",
       "1    -0.731125   60.314529     0.295073   48.120598    -0.283518   51.106190   \n",
       "2    -7.729093   47.639427    -1.816407   52.382141    -3.439720   46.639660   \n",
       "3    -3.319597   50.206673     0.636965   37.319130    -0.619121   37.259739   \n",
       "4    -5.454034   75.269707    -0.916874   53.613918    -4.404827   62.910812   \n",
       "\n",
       "   mfcc20_mean  mfcc20_var  label  \n",
       "0     1.221291   46.936035  blues  \n",
       "1     0.531217   45.786282  blues  \n",
       "2    -2.231258   30.573025  blues  \n",
       "3    -3.407448   31.949339  blues  \n",
       "4   -11.703234   55.195160  blues  \n",
       "\n",
       "[5 rows x 60 columns]"
      ]
     },
     "execution_count": 47,
     "metadata": {},
     "output_type": "execute_result"
    }
   ],
   "source": [
    "df.head()"
   ]
  },
  {
   "cell_type": "code",
   "execution_count": null,
   "metadata": {},
   "outputs": [],
   "source": []
  },
  {
   "cell_type": "code",
   "execution_count": 48,
   "metadata": {},
   "outputs": [],
   "source": [
    "#df_ten = df.sample(frac = 0.1)\n",
    "#df_ten.shape"
   ]
  },
  {
   "cell_type": "code",
   "execution_count": 49,
   "metadata": {},
   "outputs": [],
   "source": [
    "# target is df[label]\n",
    "labels = df['label']\n",
    "\n",
    "# want to consider most other variables for classification\n",
    "features_df = df.drop(['filename','length','label'], axis=1)\n",
    "features_df.head()\n",
    "\n",
    "label_map = {np.unique(labels)[i]:i for i in range(10)}\n",
    "labels_series = labels.map(lambda i: label_map[i])"
   ]
  },
  {
   "cell_type": "code",
   "execution_count": 50,
   "metadata": {},
   "outputs": [
    {
     "data": {
      "text/html": [
       "<div>\n",
       "<style scoped>\n",
       "    .dataframe tbody tr th:only-of-type {\n",
       "        vertical-align: middle;\n",
       "    }\n",
       "\n",
       "    .dataframe tbody tr th {\n",
       "        vertical-align: top;\n",
       "    }\n",
       "\n",
       "    .dataframe thead th {\n",
       "        text-align: right;\n",
       "    }\n",
       "</style>\n",
       "<table border=\"1\" class=\"dataframe\">\n",
       "  <thead>\n",
       "    <tr style=\"text-align: right;\">\n",
       "      <th></th>\n",
       "      <th>0</th>\n",
       "      <th>1</th>\n",
       "      <th>2</th>\n",
       "      <th>3</th>\n",
       "      <th>4</th>\n",
       "      <th>5</th>\n",
       "      <th>6</th>\n",
       "      <th>7</th>\n",
       "      <th>8</th>\n",
       "      <th>9</th>\n",
       "      <th>...</th>\n",
       "      <th>47</th>\n",
       "      <th>48</th>\n",
       "      <th>49</th>\n",
       "      <th>50</th>\n",
       "      <th>51</th>\n",
       "      <th>52</th>\n",
       "      <th>53</th>\n",
       "      <th>54</th>\n",
       "      <th>55</th>\n",
       "      <th>56</th>\n",
       "    </tr>\n",
       "  </thead>\n",
       "  <tbody>\n",
       "    <tr>\n",
       "      <th>0</th>\n",
       "      <td>-0.350137</td>\n",
       "      <td>0.312587</td>\n",
       "      <td>-0.010690</td>\n",
       "      <td>-0.061856</td>\n",
       "      <td>-0.583585</td>\n",
       "      <td>-0.848311</td>\n",
       "      <td>-0.456402</td>\n",
       "      <td>-0.531042</td>\n",
       "      <td>-0.486473</td>\n",
       "      <td>-0.661934</td>\n",
       "      <td>...</td>\n",
       "      <td>-0.086396</td>\n",
       "      <td>-0.246114</td>\n",
       "      <td>0.500462</td>\n",
       "      <td>-0.780265</td>\n",
       "      <td>-0.237040</td>\n",
       "      <td>-0.643177</td>\n",
       "      <td>0.006723</td>\n",
       "      <td>-0.300597</td>\n",
       "      <td>0.604064</td>\n",
       "      <td>-0.512988</td>\n",
       "    </tr>\n",
       "    <tr>\n",
       "      <th>1</th>\n",
       "      <td>-0.462482</td>\n",
       "      <td>1.117572</td>\n",
       "      <td>-0.532852</td>\n",
       "      <td>-0.186821</td>\n",
       "      <td>-0.938516</td>\n",
       "      <td>-0.234194</td>\n",
       "      <td>-0.386852</td>\n",
       "      <td>0.796252</td>\n",
       "      <td>-0.648681</td>\n",
       "      <td>0.795823</td>\n",
       "      <td>...</td>\n",
       "      <td>-0.048102</td>\n",
       "      <td>-0.159175</td>\n",
       "      <td>0.711371</td>\n",
       "      <td>-0.069304</td>\n",
       "      <td>-0.054982</td>\n",
       "      <td>-0.453456</td>\n",
       "      <td>0.544806</td>\n",
       "      <td>-0.407087</td>\n",
       "      <td>0.424127</td>\n",
       "      <td>-0.538421</td>\n",
       "    </tr>\n",
       "    <tr>\n",
       "      <th>2</th>\n",
       "      <td>-0.184225</td>\n",
       "      <td>-0.137701</td>\n",
       "      <td>0.679978</td>\n",
       "      <td>-0.084093</td>\n",
       "      <td>-0.906885</td>\n",
       "      <td>-0.781694</td>\n",
       "      <td>-0.940663</td>\n",
       "      <td>-0.630916</td>\n",
       "      <td>-0.971592</td>\n",
       "      <td>-0.744406</td>\n",
       "      <td>...</td>\n",
       "      <td>0.284825</td>\n",
       "      <td>-0.596243</td>\n",
       "      <td>-0.827516</td>\n",
       "      <td>-0.448091</td>\n",
       "      <td>-0.600983</td>\n",
       "      <td>-0.329519</td>\n",
       "      <td>-0.295934</td>\n",
       "      <td>-0.527297</td>\n",
       "      <td>-0.296189</td>\n",
       "      <td>-0.874954</td>\n",
       "    </tr>\n",
       "    <tr>\n",
       "      <th>3</th>\n",
       "      <td>0.319639</td>\n",
       "      <td>0.990659</td>\n",
       "      <td>0.154810</td>\n",
       "      <td>0.907029</td>\n",
       "      <td>-1.581429</td>\n",
       "      <td>-0.712095</td>\n",
       "      <td>-1.228256</td>\n",
       "      <td>0.304565</td>\n",
       "      <td>-1.516390</td>\n",
       "      <td>-0.246530</td>\n",
       "      <td>...</td>\n",
       "      <td>-0.080249</td>\n",
       "      <td>-0.482843</td>\n",
       "      <td>0.142153</td>\n",
       "      <td>-0.371370</td>\n",
       "      <td>0.033427</td>\n",
       "      <td>-0.767591</td>\n",
       "      <td>0.455409</td>\n",
       "      <td>-0.779744</td>\n",
       "      <td>-0.602881</td>\n",
       "      <td>-0.844508</td>\n",
       "    </tr>\n",
       "    <tr>\n",
       "      <th>4</th>\n",
       "      <td>-0.859077</td>\n",
       "      <td>0.194163</td>\n",
       "      <td>-0.600165</td>\n",
       "      <td>-0.205909</td>\n",
       "      <td>-0.512542</td>\n",
       "      <td>-0.315178</td>\n",
       "      <td>-0.939770</td>\n",
       "      <td>-0.504463</td>\n",
       "      <td>-0.630107</td>\n",
       "      <td>-0.190517</td>\n",
       "      <td>...</td>\n",
       "      <td>-1.238616</td>\n",
       "      <td>0.751318</td>\n",
       "      <td>-0.327220</td>\n",
       "      <td>0.377620</td>\n",
       "      <td>-0.368375</td>\n",
       "      <td>-0.293696</td>\n",
       "      <td>-0.553016</td>\n",
       "      <td>-0.089383</td>\n",
       "      <td>-2.766009</td>\n",
       "      <td>-0.330287</td>\n",
       "    </tr>\n",
       "  </tbody>\n",
       "</table>\n",
       "<p>5 rows × 57 columns</p>\n",
       "</div>"
      ],
      "text/plain": [
       "         0         1         2         3         4         5         6   \\\n",
       "0 -0.350137  0.312587 -0.010690 -0.061856 -0.583585 -0.848311 -0.456402   \n",
       "1 -0.462482  1.117572 -0.532852 -0.186821 -0.938516 -0.234194 -0.386852   \n",
       "2 -0.184225 -0.137701  0.679978 -0.084093 -0.906885 -0.781694 -0.940663   \n",
       "3  0.319639  0.990659  0.154810  0.907029 -1.581429 -0.712095 -1.228256   \n",
       "4 -0.859077  0.194163 -0.600165 -0.205909 -0.512542 -0.315178 -0.939770   \n",
       "\n",
       "         7         8         9   ...        47        48        49        50  \\\n",
       "0 -0.531042 -0.486473 -0.661934  ... -0.086396 -0.246114  0.500462 -0.780265   \n",
       "1  0.796252 -0.648681  0.795823  ... -0.048102 -0.159175  0.711371 -0.069304   \n",
       "2 -0.630916 -0.971592 -0.744406  ...  0.284825 -0.596243 -0.827516 -0.448091   \n",
       "3  0.304565 -1.516390 -0.246530  ... -0.080249 -0.482843  0.142153 -0.371370   \n",
       "4 -0.504463 -0.630107 -0.190517  ... -1.238616  0.751318 -0.327220  0.377620   \n",
       "\n",
       "         51        52        53        54        55        56  \n",
       "0 -0.237040 -0.643177  0.006723 -0.300597  0.604064 -0.512988  \n",
       "1 -0.054982 -0.453456  0.544806 -0.407087  0.424127 -0.538421  \n",
       "2 -0.600983 -0.329519 -0.295934 -0.527297 -0.296189 -0.874954  \n",
       "3  0.033427 -0.767591  0.455409 -0.779744 -0.602881 -0.844508  \n",
       "4 -0.368375 -0.293696 -0.553016 -0.089383 -2.766009 -0.330287  \n",
       "\n",
       "[5 rows x 57 columns]"
      ]
     },
     "execution_count": 50,
     "metadata": {},
     "output_type": "execute_result"
    }
   ],
   "source": [
    "from sklearn.preprocessing import StandardScaler\n",
    "features_scaled_nparray = StandardScaler().fit_transform(features_df)\n",
    "features_scaled_df = pd.DataFrame(features_scaled_nparray)\n",
    "features_scaled_df.head()"
   ]
  },
  {
   "cell_type": "code",
   "execution_count": 51,
   "metadata": {},
   "outputs": [],
   "source": [
    "# Import train_test_split function\n",
    "from sklearn.model_selection import train_test_split\n",
    "\n",
    "# Split dataset into training set and test set\n",
    "X_train, X_test, y_train, y_test = train_test_split(features_scaled_df, \n",
    "                                                    labels, \n",
    "                                                    test_size=0.3,\n",
    "                                                    random_state=109) # 70% training and 30% test"
   ]
  },
  {
   "cell_type": "code",
   "execution_count": 52,
   "metadata": {},
   "outputs": [
    {
     "name": "stdout",
     "output_type": "stream",
     "text": [
      "(700, 57)\n",
      "(300, 57)\n"
     ]
    }
   ],
   "source": [
    "print(X_train.shape)\n",
    "print(X_test.shape)"
   ]
  },
  {
   "cell_type": "code",
   "execution_count": 53,
   "metadata": {},
   "outputs": [],
   "source": [
    "#Import svm model\n",
    "from sklearn import svm\n",
    "\n",
    "#progress bar\n",
    "from tqdm import tqdm"
   ]
  },
  {
   "cell_type": "code",
   "execution_count": 54,
   "metadata": {},
   "outputs": [],
   "source": [
    "#Create a svm Classifier\n",
    "clf = svm.SVC(kernel='rbf') # RBF Kernel"
   ]
  },
  {
   "cell_type": "code",
   "execution_count": 55,
   "metadata": {},
   "outputs": [
    {
     "data": {
      "text/plain": [
       "SVC()"
      ]
     },
     "execution_count": 55,
     "metadata": {},
     "output_type": "execute_result"
    }
   ],
   "source": [
    "#Train the model using the training sets\n",
    "clf.fit(X_train, y_train)"
   ]
  },
  {
   "cell_type": "code",
   "execution_count": 56,
   "metadata": {},
   "outputs": [],
   "source": [
    "#Predict the response for test dataset\n",
    "y_pred = clf.predict(X_test)"
   ]
  },
  {
   "cell_type": "code",
   "execution_count": 57,
   "metadata": {},
   "outputs": [
    {
     "name": "stdout",
     "output_type": "stream",
     "text": [
      "Accuracy: 0.6966666666666667\n"
     ]
    }
   ],
   "source": [
    "#Import scikit-learn metrics module for accuracy calculation\n",
    "\n",
    "# Model Accuracy: how often is the classifier correct?\n",
    "print(\"Accuracy:\",accuracy_score(y_test, y_pred))"
   ]
  },
  {
   "cell_type": "code",
   "execution_count": 58,
   "metadata": {},
   "outputs": [],
   "source": [
    "cm = confusion_matrix(y_test, y_pred)"
   ]
  },
  {
   "cell_type": "code",
   "execution_count": 59,
   "metadata": {},
   "outputs": [
    {
     "data": {
      "text/plain": [
       "<sklearn.metrics._plot.confusion_matrix.ConfusionMatrixDisplay at 0x123ef0d90>"
      ]
     },
     "execution_count": 59,
     "metadata": {},
     "output_type": "execute_result"
    },
    {
     "data": {
      "image/png": "[encoded data removed]",
      "text/plain": [
       "<Figure size 720x576 with 2 Axes>"
      ]
     },
     "metadata": {},
     "output_type": "display_data"
    }
   ],
   "source": [
    "plot_confusion_matrix(clf, X_test, y_test)"
   ]
  },
  {
   "cell_type": "code",
   "execution_count": 61,
   "metadata": {},
   "outputs": [],
   "source": [
    "cm = confusion_matrix(y_test, y_pred)"
   ]
  },
  {
   "cell_type": "code",
   "execution_count": 62,
   "metadata": {},
   "outputs": [
    {
     "name": "stdout",
     "output_type": "stream",
     "text": [
      "       label  accuracy\n",
      "1  classical  0.956522\n",
      "5       jazz  0.794118\n",
      "6      metal  0.777778\n",
      "7        pop  0.750000\n",
      "4     hiphop  0.692308\n",
      "0      blues  0.689655\n",
      "9       rock  0.620690\n",
      "2    country  0.593750\n",
      "3      disco  0.586207\n",
      "8     reggae  0.558824\n"
     ]
    },
    {
     "data": {
      "text/plain": [
       "<BarContainer object of 10 artists>"
      ]
     },
     "execution_count": 62,
     "metadata": {},
     "output_type": "execute_result"
    },
    {
     "data": {
      "image/png": "[encoded data removed]",
      "text/plain": [
       "<Figure size 720x576 with 1 Axes>"
      ]
     },
     "metadata": {},
     "output_type": "display_data"
    }
   ],
   "source": [
    "diag_entries = [cm[i,i] for i in range(len(cm))]\n",
    "class_accuracy = diag_entries / np.sum(cm, axis=0)\n",
    "label_names = list(label_map.keys())\n",
    "\n",
    "acc_df = pd.DataFrame({'label':label_names, 'accuracy':class_accuracy})\n",
    "acc_df = acc_df.sort_values(by='accuracy', ascending=False)\n",
    "print(acc_df)\n",
    "\n",
    "plt.xlabel('Genre')\n",
    "plt.ylabel('Accuracy of classifier')\n",
    "\n",
    "plt.yticks(np.arange(0,1.05,step=0.1))\n",
    "\n",
    "plt.title('Accuracy of classifier by genre')\n",
    "plt.bar(acc_df['label'], acc_df['accuracy'])"
   ]
  }
 ],
 "metadata": {
  "kernelspec": {
   "display_name": "Python 3",
   "language": "python",
   "name": "python3"
  },
  "language_info": {
   "codemirror_mode": {
    "name": "ipython",
    "version": 3
   },
   "file_extension": ".py",
   "mimetype": "text/x-python",
   "name": "python",
   "nbconvert_exporter": "python",
   "pygments_lexer": "ipython3",
   "version": "3.8.6"
  }
 },
 "nbformat": 4,
 "nbformat_minor": 4
}
