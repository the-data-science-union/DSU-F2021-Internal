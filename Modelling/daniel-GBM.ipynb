{
 "cells": [
  {
   "cell_type": "code",
   "execution_count": 1,
   "id": "084cfdc3-9da0-47b1-b305-f362ebbe71cb",
   "metadata": {},
   "outputs": [],
   "source": [
    "import pandas as pd\n",
    "import numpy as np\n",
    "\n",
    "from sklearn.ensemble import GradientBoostingClassifier\n",
    "from sklearn.preprocessing import StandardScaler\n",
    "from sklearn.model_selection import train_test_split, GridSearchCV\n",
    "from sklearn.metrics import accuracy_score, confusion_matrix, plot_confusion_matrix\n",
    "\n",
    "import matplotlib.pyplot as plt\n",
    "import seaborn as sns"
   ]
  },
  {
   "cell_type": "code",
   "execution_count": 2,
   "id": "a1a42f0a-d71b-4184-9458-1d63aaef3a77",
   "metadata": {},
   "outputs": [],
   "source": [
    "sns.set(style='white', context='notebook', rc={'figure.figsize':(14,10)})\n",
    "np.random.seed(42)"
   ]
  },
  {
   "cell_type": "markdown",
   "id": "292bbc8c-87c4-48fc-8738-731e43053217",
   "metadata": {},
   "source": [
    "# Load Dataset"
   ]
  },
  {
   "cell_type": "code",
   "execution_count": 3,
   "id": "c7e6ff93-677c-4514-a40a-496a23afe51e",
   "metadata": {},
   "outputs": [
    {
     "data": {
      "text/html": [
       "<div>\n",
       "<style scoped>\n",
       "    .dataframe tbody tr th:only-of-type {\n",
       "        vertical-align: middle;\n",
       "    }\n",
       "\n",
       "    .dataframe tbody tr th {\n",
       "        vertical-align: top;\n",
       "    }\n",
       "\n",
       "    .dataframe thead th {\n",
       "        text-align: right;\n",
       "    }\n",
       "</style>\n",
       "<table border=\"1\" class=\"dataframe\">\n",
       "  <thead>\n",
       "    <tr style=\"text-align: right;\">\n",
       "      <th></th>\n",
       "      <th>chroma_stft_mean</th>\n",
       "      <th>chroma_stft_var</th>\n",
       "      <th>rms_mean</th>\n",
       "      <th>rms_var</th>\n",
       "      <th>spectral_centroid_mean</th>\n",
       "      <th>spectral_centroid_var</th>\n",
       "      <th>spectral_bandwidth_mean</th>\n",
       "      <th>spectral_bandwidth_var</th>\n",
       "      <th>rolloff_mean</th>\n",
       "      <th>rolloff_var</th>\n",
       "      <th>...</th>\n",
       "      <th>mfcc16_mean</th>\n",
       "      <th>mfcc16_var</th>\n",
       "      <th>mfcc17_mean</th>\n",
       "      <th>mfcc17_var</th>\n",
       "      <th>mfcc18_mean</th>\n",
       "      <th>mfcc18_var</th>\n",
       "      <th>mfcc19_mean</th>\n",
       "      <th>mfcc19_var</th>\n",
       "      <th>mfcc20_mean</th>\n",
       "      <th>mfcc20_var</th>\n",
       "    </tr>\n",
       "  </thead>\n",
       "  <tbody>\n",
       "    <tr>\n",
       "      <th>0</th>\n",
       "      <td>0.335406</td>\n",
       "      <td>0.091048</td>\n",
       "      <td>0.130405</td>\n",
       "      <td>0.003521</td>\n",
       "      <td>1773.065032</td>\n",
       "      <td>167541.630869</td>\n",
       "      <td>1972.744388</td>\n",
       "      <td>117335.771563</td>\n",
       "      <td>3714.560359</td>\n",
       "      <td>1.080790e+06</td>\n",
       "      <td>...</td>\n",
       "      <td>-2.853603</td>\n",
       "      <td>39.687145</td>\n",
       "      <td>-3.241280</td>\n",
       "      <td>36.488243</td>\n",
       "      <td>0.722209</td>\n",
       "      <td>38.099152</td>\n",
       "      <td>-5.050335</td>\n",
       "      <td>33.618073</td>\n",
       "      <td>-0.243027</td>\n",
       "      <td>43.771767</td>\n",
       "    </tr>\n",
       "    <tr>\n",
       "      <th>1</th>\n",
       "      <td>0.343065</td>\n",
       "      <td>0.086147</td>\n",
       "      <td>0.112699</td>\n",
       "      <td>0.001450</td>\n",
       "      <td>1816.693777</td>\n",
       "      <td>90525.690866</td>\n",
       "      <td>2010.051501</td>\n",
       "      <td>65671.875673</td>\n",
       "      <td>3869.682242</td>\n",
       "      <td>6.722448e+05</td>\n",
       "      <td>...</td>\n",
       "      <td>4.074709</td>\n",
       "      <td>64.748276</td>\n",
       "      <td>-6.055294</td>\n",
       "      <td>40.677654</td>\n",
       "      <td>0.159015</td>\n",
       "      <td>51.264091</td>\n",
       "      <td>-2.837699</td>\n",
       "      <td>97.030830</td>\n",
       "      <td>5.784063</td>\n",
       "      <td>59.943081</td>\n",
       "    </tr>\n",
       "    <tr>\n",
       "      <th>2</th>\n",
       "      <td>0.346815</td>\n",
       "      <td>0.092243</td>\n",
       "      <td>0.132003</td>\n",
       "      <td>0.004620</td>\n",
       "      <td>1788.539719</td>\n",
       "      <td>111407.437613</td>\n",
       "      <td>2084.565132</td>\n",
       "      <td>75124.921716</td>\n",
       "      <td>3997.639160</td>\n",
       "      <td>7.907127e+05</td>\n",
       "      <td>...</td>\n",
       "      <td>4.806280</td>\n",
       "      <td>67.336563</td>\n",
       "      <td>-1.768610</td>\n",
       "      <td>28.348579</td>\n",
       "      <td>2.378768</td>\n",
       "      <td>45.717648</td>\n",
       "      <td>-1.938424</td>\n",
       "      <td>53.050835</td>\n",
       "      <td>2.517375</td>\n",
       "      <td>33.105122</td>\n",
       "    </tr>\n",
       "    <tr>\n",
       "      <th>3</th>\n",
       "      <td>0.363639</td>\n",
       "      <td>0.086856</td>\n",
       "      <td>0.132565</td>\n",
       "      <td>0.002448</td>\n",
       "      <td>1655.289045</td>\n",
       "      <td>111952.284517</td>\n",
       "      <td>1960.039988</td>\n",
       "      <td>82913.639269</td>\n",
       "      <td>3568.300218</td>\n",
       "      <td>9.216524e+05</td>\n",
       "      <td>...</td>\n",
       "      <td>-1.359111</td>\n",
       "      <td>47.739452</td>\n",
       "      <td>-3.841155</td>\n",
       "      <td>28.337118</td>\n",
       "      <td>1.218588</td>\n",
       "      <td>34.770935</td>\n",
       "      <td>-3.580352</td>\n",
       "      <td>50.836224</td>\n",
       "      <td>3.630866</td>\n",
       "      <td>32.023678</td>\n",
       "    </tr>\n",
       "    <tr>\n",
       "      <th>4</th>\n",
       "      <td>0.335579</td>\n",
       "      <td>0.088129</td>\n",
       "      <td>0.143289</td>\n",
       "      <td>0.001701</td>\n",
       "      <td>1630.656199</td>\n",
       "      <td>79667.267654</td>\n",
       "      <td>1948.503884</td>\n",
       "      <td>60204.020268</td>\n",
       "      <td>3469.992864</td>\n",
       "      <td>6.102111e+05</td>\n",
       "      <td>...</td>\n",
       "      <td>2.092937</td>\n",
       "      <td>30.336359</td>\n",
       "      <td>0.664582</td>\n",
       "      <td>45.880913</td>\n",
       "      <td>1.689446</td>\n",
       "      <td>51.363583</td>\n",
       "      <td>-3.392489</td>\n",
       "      <td>26.738789</td>\n",
       "      <td>0.536961</td>\n",
       "      <td>29.146694</td>\n",
       "    </tr>\n",
       "  </tbody>\n",
       "</table>\n",
       "<p>5 rows × 57 columns</p>\n",
       "</div>"
      ],
      "text/plain": [
       "   chroma_stft_mean  chroma_stft_var  rms_mean   rms_var  \\\n",
       "0          0.335406         0.091048  0.130405  0.003521   \n",
       "1          0.343065         0.086147  0.112699  0.001450   \n",
       "2          0.346815         0.092243  0.132003  0.004620   \n",
       "3          0.363639         0.086856  0.132565  0.002448   \n",
       "4          0.335579         0.088129  0.143289  0.001701   \n",
       "\n",
       "   spectral_centroid_mean  spectral_centroid_var  spectral_bandwidth_mean  \\\n",
       "0             1773.065032          167541.630869              1972.744388   \n",
       "1             1816.693777           90525.690866              2010.051501   \n",
       "2             1788.539719          111407.437613              2084.565132   \n",
       "3             1655.289045          111952.284517              1960.039988   \n",
       "4             1630.656199           79667.267654              1948.503884   \n",
       "\n",
       "   spectral_bandwidth_var  rolloff_mean   rolloff_var  ...  mfcc16_mean  \\\n",
       "0           117335.771563   3714.560359  1.080790e+06  ...    -2.853603   \n",
       "1            65671.875673   3869.682242  6.722448e+05  ...     4.074709   \n",
       "2            75124.921716   3997.639160  7.907127e+05  ...     4.806280   \n",
       "3            82913.639269   3568.300218  9.216524e+05  ...    -1.359111   \n",
       "4            60204.020268   3469.992864  6.102111e+05  ...     2.092937   \n",
       "\n",
       "   mfcc16_var  mfcc17_mean  mfcc17_var  mfcc18_mean  mfcc18_var  mfcc19_mean  \\\n",
       "0   39.687145    -3.241280   36.488243     0.722209   38.099152    -5.050335   \n",
       "1   64.748276    -6.055294   40.677654     0.159015   51.264091    -2.837699   \n",
       "2   67.336563    -1.768610   28.348579     2.378768   45.717648    -1.938424   \n",
       "3   47.739452    -3.841155   28.337118     1.218588   34.770935    -3.580352   \n",
       "4   30.336359     0.664582   45.880913     1.689446   51.363583    -3.392489   \n",
       "\n",
       "   mfcc19_var  mfcc20_mean  mfcc20_var  \n",
       "0   33.618073    -0.243027   43.771767  \n",
       "1   97.030830     5.784063   59.943081  \n",
       "2   53.050835     2.517375   33.105122  \n",
       "3   50.836224     3.630866   32.023678  \n",
       "4   26.738789     0.536961   29.146694  \n",
       "\n",
       "[5 rows x 57 columns]"
      ]
     },
     "execution_count": 3,
     "metadata": {},
     "output_type": "execute_result"
    }
   ],
   "source": [
    "data_path = '../features_3_sec.csv'\n",
    "orig_df = pd.read_csv(data_path)\n",
    "\n",
    "labels = orig_df['label']\n",
    "\n",
    "features_df = orig_df.drop(['filename','length','label'], axis=1)\n",
    "features_df.head()"
   ]
  },
  {
   "cell_type": "markdown",
   "id": "abc69d90-45f7-4e68-87c9-05894b8e44e2",
   "metadata": {},
   "source": [
    "# Feature normalization"
   ]
  },
  {
   "cell_type": "code",
   "execution_count": 4,
   "id": "f2e34c07-2973-414e-83cf-f138cfa5b8be",
   "metadata": {},
   "outputs": [],
   "source": [
    "features_scaled = StandardScaler().fit_transform(features_df)\n",
    "scaled_df = pd.DataFrame(features_scaled)"
   ]
  },
  {
   "cell_type": "markdown",
   "id": "3a2791e7-b942-499a-891f-546bdd23b077",
   "metadata": {},
   "source": [
    "# Turn string labels to classes"
   ]
  },
  {
   "cell_type": "code",
   "execution_count": 5,
   "id": "a1e57c5f-461f-4fab-a00e-265231cf97c9",
   "metadata": {},
   "outputs": [],
   "source": [
    "label_map = {np.unique(labels)[i]:i for i in range(10)}\n",
    "labels = labels.map(lambda i: label_map[i])"
   ]
  },
  {
   "cell_type": "markdown",
   "id": "89f210f6-2a5c-4603-bd7e-3b9f7ee54e14",
   "metadata": {},
   "source": [
    "# Split into train and test"
   ]
  },
  {
   "cell_type": "code",
   "execution_count": 6,
   "id": "482b7d05-eb52-4274-8b46-aa5b2bc0b72e",
   "metadata": {},
   "outputs": [
    {
     "name": "stdout",
     "output_type": "stream",
     "text": [
      "Train test size: 7992 rows, test set size: 1998 rows\n"
     ]
    }
   ],
   "source": [
    "X_train, X_test, y_train, y_test = train_test_split(scaled_df, labels, test_size=0.2)\n",
    "print(f'Train test size: {X_train.shape[0]} rows, test set size: {X_test.shape[0]} rows')"
   ]
  },
  {
   "cell_type": "markdown",
   "id": "587db27b-4bdd-4a0e-b02d-d0345a31ec6e",
   "metadata": {},
   "source": [
    "# Find optimal hyperparams"
   ]
  },
  {
   "cell_type": "code",
   "execution_count": 7,
   "id": "b2b8912f-82a8-411c-a3ff-20d6e4d4ee3f",
   "metadata": {},
   "outputs": [
    {
     "name": "stdout",
     "output_type": "stream",
     "text": [
      "Trying n_estimators = 200, min_samples_split = 2\n",
      "Accuracy = 0.8688688688688688\n",
      "Trying n_estimators = 200, min_samples_split = 3\n",
      "Accuracy = 0.8738738738738738\n",
      "Trying n_estimators = 200, min_samples_split = 5\n",
      "Accuracy = 0.8653653653653653\n",
      "Trying n_estimators = 200, min_samples_split = 10\n",
      "Accuracy = 0.8733733733733734\n",
      "Trying n_estimators = 500, min_samples_split = 2\n",
      "Accuracy = 0.8943943943943944\n",
      "Trying n_estimators = 500, min_samples_split = 3\n",
      "Accuracy = 0.8973973973973974\n",
      "Trying n_estimators = 500, min_samples_split = 5\n",
      "Accuracy = 0.8988988988988988\n",
      "Trying n_estimators = 500, min_samples_split = 10\n",
      "Accuracy = 0.8943943943943944\n",
      "Trying n_estimators = 1000, min_samples_split = 2\n",
      "Accuracy = 0.9009009009009009\n",
      "Trying n_estimators = 1000, min_samples_split = 3\n",
      "Accuracy = 0.9004004004004004\n",
      "Trying n_estimators = 1000, min_samples_split = 5\n",
      "Accuracy = 0.9014014014014013\n",
      "Trying n_estimators = 1000, min_samples_split = 10\n",
      "Accuracy = 0.9029029029029029\n",
      "Best accuracy = 0.9029029029029029, best model = GradientBoostingClassifier(min_samples_split=10, n_estimators=1000)\n"
     ]
    }
   ],
   "source": [
    "best_acc = -1\n",
    "best_model = None\n",
    "\n",
    "for n_est in [200,500,1000]:\n",
    "    for mss in [2, 3, 5, 10]:\n",
    "        print(f'Trying n_estimators = {n_est}, min_samples_split = {mss}')\n",
    "        clf = GradientBoostingClassifier(n_estimators=n_est, min_samples_split=mss)\n",
    "        clf.fit(X_train, y_train)\n",
    "        \n",
    "        preds = clf.predict(X_test)\n",
    "        accuracy = accuracy_score(preds, y_test)\n",
    "        print(f'Accuracy = {accuracy}')\n",
    "        \n",
    "        if accuracy > best_acc:\n",
    "            best_acc = accuracy\n",
    "            best_model = clf\n",
    "\n",
    "print(f'Best accuracy = {best_acc}, best model = {best_model}')"
   ]
  },
  {
   "cell_type": "markdown",
   "id": "705f6359-9d1f-4030-84a1-fe53d1413ca3",
   "metadata": {},
   "source": [
    "# Make predictions and assess accuracy"
   ]
  },
  {
   "cell_type": "code",
   "execution_count": 10,
   "id": "86cb15a9-d276-427d-aaf6-287c2298e150",
   "metadata": {},
   "outputs": [],
   "source": [
    "preds = best_model.predict(X_test)\n",
    "accuracy = accuracy_score(preds, y_test)\n",
    "confusion_mat = confusion_matrix(preds, y_test)"
   ]
  },
  {
   "cell_type": "code",
   "execution_count": 12,
   "id": "534ca5a8-176a-4868-91d1-ab1a113df9f3",
   "metadata": {},
   "outputs": [
    {
     "data": {
      "text/plain": [
       "<sklearn.metrics._plot.confusion_matrix.ConfusionMatrixDisplay at 0x12af3c220>"
      ]
     },
     "execution_count": 12,
     "metadata": {},
     "output_type": "execute_result"
    },
    {
     "data": {
      "image/png": "[encoded data removed]",
      "text/plain": [
       "<Figure size 1008x720 with 2 Axes>"
      ]
     },
     "metadata": {},
     "output_type": "display_data"
    }
   ],
   "source": [
    "plot_confusion_matrix(best_model, X_test, y_test)"
   ]
  },
  {
   "cell_type": "code",
   "execution_count": 13,
   "id": "9af40366-73c3-4ef5-869e-ec9954777b15",
   "metadata": {},
   "outputs": [
    {
     "name": "stdout",
     "output_type": "stream",
     "text": [
      "       label  accuracy\n",
      "1  classical  0.965517\n",
      "7        pop  0.950000\n",
      "6      metal  0.931373\n",
      "5       jazz  0.921875\n",
      "8     reggae  0.900474\n",
      "4     hiphop  0.899083\n",
      "3      disco  0.889447\n",
      "2    country  0.881720\n",
      "0      blues  0.855769\n",
      "9       rock  0.837563\n"
     ]
    },
    {
     "data": {
      "text/plain": [
       "<BarContainer object of 10 artists>"
      ]
     },
     "execution_count": 13,
     "metadata": {},
     "output_type": "execute_result"
    },
    {
     "data": {
      "image/png": "[encoded data removed]",
      "text/plain": [
       "<Figure size 1008x720 with 1 Axes>"
      ]
     },
     "metadata": {},
     "output_type": "display_data"
    }
   ],
   "source": [
    "diag_entries = [confusion_mat[i,i] for i in range(len(confusion_mat))]\n",
    "class_accuracy = diag_entries / np.sum(confusion_mat, axis=0)\n",
    "label_names = list(label_map.keys())\n",
    "\n",
    "acc_df = pd.DataFrame({'label':label_names, 'accuracy':class_accuracy})\n",
    "acc_df = acc_df.sort_values(by='accuracy', ascending=False)\n",
    "print(acc_df)\n",
    "\n",
    "plt.xlabel('Genre')\n",
    "plt.ylabel('Accuracy of classifier')\n",
    "\n",
    "plt.yticks(np.arange(0,1.05,step=0.1))\n",
    "\n",
    "plt.title('Accuracy of classifier by genre')\n",
    "plt.bar(acc_df['label'], acc_df['accuracy'])"
   ]
  },
  {
   "cell_type": "code",
   "execution_count": 17,
   "id": "08324c17-ff3e-4f11-8364-7cbb414ccf76",
   "metadata": {},
   "outputs": [
    {
     "data": {
      "text/plain": [
       "<BarContainer object of 5 artists>"
      ]
     },
     "execution_count": 17,
     "metadata": {},
     "output_type": "execute_result"
    },
    {
     "data": {
      "image/png": "[encoded data removed]",
      "text/plain": [
       "<Figure size 1008x720 with 1 Axes>"
      ]
     },
     "metadata": {},
     "output_type": "display_data"
    }
   ],
   "source": [
    "feature_importance = clf.feature_importances_\n",
    "col_names = features_df.columns\n",
    "\n",
    "importance_df = pd.DataFrame({'col':col_names, 'importance':feature_importance})\n",
    "importance_df = importance_df.sort_values(by='importance', ascending=False)\n",
    "\n",
    "plt.xlabel('Feature')\n",
    "plt.ylabel('Gini importance of feature')\n",
    "plt.title('Top 5 most important features')\n",
    "\n",
    "plt.bar(importance_df.iloc[:5,0], importance_df.iloc[:5,1])"
   ]
  },
  {
   "cell_type": "code",
   "execution_count": null,
   "id": "1d7bb654-8ab2-4af4-9885-a2fe8e7f4a6c",
   "metadata": {},
   "outputs": [],
   "source": [
    "orig_df.groupby('label').mean()['perceptr_var'].sort_values(ascending=False).plot(kind='bar')"
   ]
  },
  {
   "cell_type": "code",
   "execution_count": null,
   "id": "a6b58ec3-e07b-495a-a9df-0d94b835c078",
   "metadata": {},
   "outputs": [],
   "source": []
  },
  {
   "cell_type": "code",
   "execution_count": null,
   "id": "ab8a3b28-2c9f-490b-8f03-9214e00c1e76",
   "metadata": {},
   "outputs": [],
   "source": []
  }
 ],
 "metadata": {
  "kernelspec": {
   "display_name": "Python 3",
   "language": "python",
   "name": "python3"
  },
  "language_info": {
   "codemirror_mode": {
    "name": "ipython",
    "version": 3
   },
   "file_extension": ".py",
   "mimetype": "text/x-python",
   "name": "python",
   "nbconvert_exporter": "python",
   "pygments_lexer": "ipython3",
   "version": "3.8.6"
  }
 },
 "nbformat": 4,
 "nbformat_minor": 5
}
