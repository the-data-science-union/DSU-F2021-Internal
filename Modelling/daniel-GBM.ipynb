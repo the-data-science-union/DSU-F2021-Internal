{
 "cells": [
  {
   "cell_type": "code",
   "execution_count": 1,
   "id": "084cfdc3-9da0-47b1-b305-f362ebbe71cb",
   "metadata": {},
   "outputs": [],
   "source": [
    "import pandas as pd\n",
    "import numpy as np\n",
    "\n",
    "from sklearn.ensemble import GradientBoostingClassifier\n",
    "from sklearn.preprocessing import StandardScaler\n",
    "from sklearn.model_selection import train_test_split, GridSearchCV\n",
    "from sklearn.metrics import accuracy_score, confusion_matrix, plot_confusion_matrix\n",
    "\n",
    "import matplotlib.pyplot as plt\n",
    "import seaborn as sns"
   ]
  },
  {
   "cell_type": "code",
   "execution_count": 2,
   "id": "a1a42f0a-d71b-4184-9458-1d63aaef3a77",
   "metadata": {},
   "outputs": [],
   "source": [
    "sns.set(style='white', context='notebook', rc={'figure.figsize':(14,10)})\n",
    "np.random.seed(42)"
   ]
  },
  {
   "cell_type": "markdown",
   "id": "292bbc8c-87c4-48fc-8738-731e43053217",
   "metadata": {},
   "source": [
    "# Load Dataset"
   ]
  },
  {
   "cell_type": "code",
   "execution_count": 3,
   "id": "c7e6ff93-677c-4514-a40a-496a23afe51e",
   "metadata": {},
   "outputs": [
    {
     "data": {
      "text/html": [
       "<div>\n",
       "<style scoped>\n",
       "    .dataframe tbody tr th:only-of-type {\n",
       "        vertical-align: middle;\n",
       "    }\n",
       "\n",
       "    .dataframe tbody tr th {\n",
       "        vertical-align: top;\n",
       "    }\n",
       "\n",
       "    .dataframe thead th {\n",
       "        text-align: right;\n",
       "    }\n",
       "</style>\n",
       "<table border=\"1\" class=\"dataframe\">\n",
       "  <thead>\n",
       "    <tr style=\"text-align: right;\">\n",
       "      <th></th>\n",
       "      <th>chroma_stft_mean</th>\n",
       "      <th>chroma_stft_var</th>\n",
       "      <th>rms_mean</th>\n",
       "      <th>rms_var</th>\n",
       "      <th>spectral_centroid_mean</th>\n",
       "      <th>spectral_centroid_var</th>\n",
       "      <th>spectral_bandwidth_mean</th>\n",
       "      <th>spectral_bandwidth_var</th>\n",
       "      <th>rolloff_mean</th>\n",
       "      <th>rolloff_var</th>\n",
       "      <th>...</th>\n",
       "      <th>mfcc16_mean</th>\n",
       "      <th>mfcc16_var</th>\n",
       "      <th>mfcc17_mean</th>\n",
       "      <th>mfcc17_var</th>\n",
       "      <th>mfcc18_mean</th>\n",
       "      <th>mfcc18_var</th>\n",
       "      <th>mfcc19_mean</th>\n",
       "      <th>mfcc19_var</th>\n",
       "      <th>mfcc20_mean</th>\n",
       "      <th>mfcc20_var</th>\n",
       "    </tr>\n",
       "  </thead>\n",
       "  <tbody>\n",
       "    <tr>\n",
       "      <th>0</th>\n",
       "      <td>0.350088</td>\n",
       "      <td>0.088757</td>\n",
       "      <td>0.130228</td>\n",
       "      <td>0.002827</td>\n",
       "      <td>1784.165850</td>\n",
       "      <td>129774.064525</td>\n",
       "      <td>2002.449060</td>\n",
       "      <td>85882.761315</td>\n",
       "      <td>3805.839606</td>\n",
       "      <td>9.015054e+05</td>\n",
       "      <td>...</td>\n",
       "      <td>0.752740</td>\n",
       "      <td>52.420910</td>\n",
       "      <td>-1.690215</td>\n",
       "      <td>36.524071</td>\n",
       "      <td>-0.408979</td>\n",
       "      <td>41.597103</td>\n",
       "      <td>-2.303523</td>\n",
       "      <td>55.062923</td>\n",
       "      <td>1.221291</td>\n",
       "      <td>46.936035</td>\n",
       "    </tr>\n",
       "    <tr>\n",
       "      <th>1</th>\n",
       "      <td>0.340914</td>\n",
       "      <td>0.094980</td>\n",
       "      <td>0.095948</td>\n",
       "      <td>0.002373</td>\n",
       "      <td>1530.176679</td>\n",
       "      <td>375850.073649</td>\n",
       "      <td>2039.036516</td>\n",
       "      <td>213843.755497</td>\n",
       "      <td>3550.522098</td>\n",
       "      <td>2.977893e+06</td>\n",
       "      <td>...</td>\n",
       "      <td>0.927998</td>\n",
       "      <td>55.356403</td>\n",
       "      <td>-0.731125</td>\n",
       "      <td>60.314529</td>\n",
       "      <td>0.295073</td>\n",
       "      <td>48.120598</td>\n",
       "      <td>-0.283518</td>\n",
       "      <td>51.106190</td>\n",
       "      <td>0.531217</td>\n",
       "      <td>45.786282</td>\n",
       "    </tr>\n",
       "    <tr>\n",
       "      <th>2</th>\n",
       "      <td>0.363637</td>\n",
       "      <td>0.085275</td>\n",
       "      <td>0.175570</td>\n",
       "      <td>0.002746</td>\n",
       "      <td>1552.811865</td>\n",
       "      <td>156467.643368</td>\n",
       "      <td>1747.702312</td>\n",
       "      <td>76254.192257</td>\n",
       "      <td>3042.260232</td>\n",
       "      <td>7.840345e+05</td>\n",
       "      <td>...</td>\n",
       "      <td>2.451690</td>\n",
       "      <td>40.598766</td>\n",
       "      <td>-7.729093</td>\n",
       "      <td>47.639427</td>\n",
       "      <td>-1.816407</td>\n",
       "      <td>52.382141</td>\n",
       "      <td>-3.439720</td>\n",
       "      <td>46.639660</td>\n",
       "      <td>-2.231258</td>\n",
       "      <td>30.573025</td>\n",
       "    </tr>\n",
       "    <tr>\n",
       "      <th>3</th>\n",
       "      <td>0.404785</td>\n",
       "      <td>0.093999</td>\n",
       "      <td>0.141093</td>\n",
       "      <td>0.006346</td>\n",
       "      <td>1070.106615</td>\n",
       "      <td>184355.942417</td>\n",
       "      <td>1596.412872</td>\n",
       "      <td>166441.494769</td>\n",
       "      <td>2184.745799</td>\n",
       "      <td>1.493194e+06</td>\n",
       "      <td>...</td>\n",
       "      <td>0.780874</td>\n",
       "      <td>44.427753</td>\n",
       "      <td>-3.319597</td>\n",
       "      <td>50.206673</td>\n",
       "      <td>0.636965</td>\n",
       "      <td>37.319130</td>\n",
       "      <td>-0.619121</td>\n",
       "      <td>37.259739</td>\n",
       "      <td>-3.407448</td>\n",
       "      <td>31.949339</td>\n",
       "    </tr>\n",
       "    <tr>\n",
       "      <th>4</th>\n",
       "      <td>0.308526</td>\n",
       "      <td>0.087841</td>\n",
       "      <td>0.091529</td>\n",
       "      <td>0.002303</td>\n",
       "      <td>1835.004266</td>\n",
       "      <td>343399.939274</td>\n",
       "      <td>1748.172116</td>\n",
       "      <td>88445.209036</td>\n",
       "      <td>3579.757627</td>\n",
       "      <td>1.572978e+06</td>\n",
       "      <td>...</td>\n",
       "      <td>-4.520576</td>\n",
       "      <td>86.099236</td>\n",
       "      <td>-5.454034</td>\n",
       "      <td>75.269707</td>\n",
       "      <td>-0.916874</td>\n",
       "      <td>53.613918</td>\n",
       "      <td>-4.404827</td>\n",
       "      <td>62.910812</td>\n",
       "      <td>-11.703234</td>\n",
       "      <td>55.195160</td>\n",
       "    </tr>\n",
       "  </tbody>\n",
       "</table>\n",
       "<p>5 rows × 57 columns</p>\n",
       "</div>"
      ],
      "text/plain": [
       "   chroma_stft_mean  chroma_stft_var  rms_mean   rms_var  \\\n",
       "0          0.350088         0.088757  0.130228  0.002827   \n",
       "1          0.340914         0.094980  0.095948  0.002373   \n",
       "2          0.363637         0.085275  0.175570  0.002746   \n",
       "3          0.404785         0.093999  0.141093  0.006346   \n",
       "4          0.308526         0.087841  0.091529  0.002303   \n",
       "\n",
       "   spectral_centroid_mean  spectral_centroid_var  spectral_bandwidth_mean  \\\n",
       "0             1784.165850          129774.064525              2002.449060   \n",
       "1             1530.176679          375850.073649              2039.036516   \n",
       "2             1552.811865          156467.643368              1747.702312   \n",
       "3             1070.106615          184355.942417              1596.412872   \n",
       "4             1835.004266          343399.939274              1748.172116   \n",
       "\n",
       "   spectral_bandwidth_var  rolloff_mean   rolloff_var  ...  mfcc16_mean  \\\n",
       "0            85882.761315   3805.839606  9.015054e+05  ...     0.752740   \n",
       "1           213843.755497   3550.522098  2.977893e+06  ...     0.927998   \n",
       "2            76254.192257   3042.260232  7.840345e+05  ...     2.451690   \n",
       "3           166441.494769   2184.745799  1.493194e+06  ...     0.780874   \n",
       "4            88445.209036   3579.757627  1.572978e+06  ...    -4.520576   \n",
       "\n",
       "   mfcc16_var  mfcc17_mean  mfcc17_var  mfcc18_mean  mfcc18_var  mfcc19_mean  \\\n",
       "0   52.420910    -1.690215   36.524071    -0.408979   41.597103    -2.303523   \n",
       "1   55.356403    -0.731125   60.314529     0.295073   48.120598    -0.283518   \n",
       "2   40.598766    -7.729093   47.639427    -1.816407   52.382141    -3.439720   \n",
       "3   44.427753    -3.319597   50.206673     0.636965   37.319130    -0.619121   \n",
       "4   86.099236    -5.454034   75.269707    -0.916874   53.613918    -4.404827   \n",
       "\n",
       "   mfcc19_var  mfcc20_mean  mfcc20_var  \n",
       "0   55.062923     1.221291   46.936035  \n",
       "1   51.106190     0.531217   45.786282  \n",
       "2   46.639660    -2.231258   30.573025  \n",
       "3   37.259739    -3.407448   31.949339  \n",
       "4   62.910812   -11.703234   55.195160  \n",
       "\n",
       "[5 rows x 57 columns]"
      ]
     },
     "execution_count": 3,
     "metadata": {},
     "output_type": "execute_result"
    }
   ],
   "source": [
    "data_path = '../features_30_sec.csv'\n",
    "orig_df = pd.read_csv(data_path)\n",
    "\n",
    "labels = orig_df['label']\n",
    "\n",
    "features_df = orig_df.drop(['filename','length','label'], axis=1)\n",
    "features_df.head()"
   ]
  },
  {
   "cell_type": "markdown",
   "id": "abc69d90-45f7-4e68-87c9-05894b8e44e2",
   "metadata": {},
   "source": [
    "# Feature normalization"
   ]
  },
  {
   "cell_type": "code",
   "execution_count": 4,
   "id": "f2e34c07-2973-414e-83cf-f138cfa5b8be",
   "metadata": {},
   "outputs": [],
   "source": [
    "features_scaled = StandardScaler().fit_transform(features_df)\n",
    "scaled_df = pd.DataFrame(features_scaled)"
   ]
  },
  {
   "cell_type": "markdown",
   "id": "3a2791e7-b942-499a-891f-546bdd23b077",
   "metadata": {},
   "source": [
    "# Turn string labels to classes"
   ]
  },
  {
   "cell_type": "code",
   "execution_count": 5,
   "id": "a1e57c5f-461f-4fab-a00e-265231cf97c9",
   "metadata": {},
   "outputs": [],
   "source": [
    "label_map = {np.unique(labels)[i]:i for i in range(10)}\n",
    "labels = labels.map(lambda i: label_map[i])"
   ]
  },
  {
   "cell_type": "markdown",
   "id": "89f210f6-2a5c-4603-bd7e-3b9f7ee54e14",
   "metadata": {},
   "source": [
    "# Split into train and test"
   ]
  },
  {
   "cell_type": "code",
   "execution_count": 6,
   "id": "482b7d05-eb52-4274-8b46-aa5b2bc0b72e",
   "metadata": {},
   "outputs": [
    {
     "name": "stdout",
     "output_type": "stream",
     "text": [
      "Train test size: 800 rows, test set size: 200 rows\n"
     ]
    }
   ],
   "source": [
    "X_train, X_test, y_train, y_test = train_test_split(scaled_df, labels, test_size=0.2)\n",
    "print(f'Train test size: {X_train.shape[0]} rows, test set size: {X_test.shape[0]} rows')"
   ]
  },
  {
   "cell_type": "markdown",
   "id": "587db27b-4bdd-4a0e-b02d-d0345a31ec6e",
   "metadata": {},
   "source": [
    "# Find optimal hyperparams"
   ]
  },
  {
   "cell_type": "code",
   "execution_count": 7,
   "id": "b2b8912f-82a8-411c-a3ff-20d6e4d4ee3f",
   "metadata": {},
   "outputs": [
    {
     "name": "stdout",
     "output_type": "stream",
     "text": [
      "Trying n_estimators = 200, min_samples_split = 2\n",
      "Accuracy = 0.72\n",
      "Trying n_estimators = 200, min_samples_split = 3\n",
      "Accuracy = 0.72\n",
      "Trying n_estimators = 200, min_samples_split = 5\n",
      "Accuracy = 0.72\n",
      "Trying n_estimators = 200, min_samples_split = 10\n",
      "Accuracy = 0.74\n",
      "Trying n_estimators = 500, min_samples_split = 2\n",
      "Accuracy = 0.73\n",
      "Trying n_estimators = 500, min_samples_split = 3\n",
      "Accuracy = 0.72\n",
      "Trying n_estimators = 500, min_samples_split = 5\n",
      "Accuracy = 0.72\n",
      "Trying n_estimators = 500, min_samples_split = 10\n",
      "Accuracy = 0.73\n",
      "Trying n_estimators = 1000, min_samples_split = 2\n",
      "Accuracy = 0.715\n",
      "Trying n_estimators = 1000, min_samples_split = 3\n",
      "Accuracy = 0.715\n",
      "Trying n_estimators = 1000, min_samples_split = 5\n",
      "Accuracy = 0.705\n",
      "Trying n_estimators = 1000, min_samples_split = 10\n",
      "Accuracy = 0.725\n",
      "Best accuracy = 0.74, best model = GradientBoostingClassifier(min_samples_split=10, n_estimators=200)\n"
     ]
    }
   ],
   "source": [
    "best_acc = -1\n",
    "best_model = None\n",
    "\n",
    "for n_est in [200,500,1000]:\n",
    "    for mss in [2, 3, 5, 10]:\n",
    "        print(f'Trying n_estimators = {n_est}, min_samples_split = {mss}')\n",
    "        clf = GradientBoostingClassifier(n_estimators=n_est, min_samples_split=mss)\n",
    "        clf.fit(X_train, y_train)\n",
    "        \n",
    "        preds = clf.predict(X_test)\n",
    "        accuracy = accuracy_score(preds, y_test)\n",
    "        print(f'Accuracy = {accuracy}')\n",
    "        \n",
    "        if accuracy > best_acc:\n",
    "            best_acc = accuracy\n",
    "            best_model = clf\n",
    "\n",
    "print(f'Best accuracy = {best_acc}, best model = {best_model}')"
   ]
  },
  {
   "cell_type": "markdown",
   "id": "705f6359-9d1f-4030-84a1-fe53d1413ca3",
   "metadata": {},
   "source": [
    "# Make predictions and assess accuracy"
   ]
  },
  {
   "cell_type": "code",
   "execution_count": 14,
   "id": "86cb15a9-d276-427d-aaf6-287c2298e150",
   "metadata": {},
   "outputs": [],
   "source": [
    "preds = best_model.predict(X_test)\n",
    "accuracy = accuracy_score(preds, y_test)\n",
    "confusion_mat = confusion_matrix(preds, y_test)"
   ]
  },
  {
   "cell_type": "code",
   "execution_count": 15,
   "id": "534ca5a8-176a-4868-91d1-ab1a113df9f3",
   "metadata": {},
   "outputs": [
    {
     "data": {
      "text/plain": [
       "<sklearn.metrics._plot.confusion_matrix.ConfusionMatrixDisplay at 0x125672850>"
      ]
     },
     "execution_count": 15,
     "metadata": {},
     "output_type": "execute_result"
    },
    {
     "data": {
      "image/png": "[encoded data removed]",
      "text/plain": [
       "<Figure size 1008x720 with 2 Axes>"
      ]
     },
     "metadata": {},
     "output_type": "display_data"
    }
   ],
   "source": [
    "plot_confusion_matrix(best_model, X_test, y_test)"
   ]
  },
  {
   "cell_type": "code",
   "execution_count": 16,
   "id": "9af40366-73c3-4ef5-869e-ec9954777b15",
   "metadata": {},
   "outputs": [
    {
     "name": "stdout",
     "output_type": "stream",
     "text": [
      "       label  accuracy\n",
      "1  classical  1.000000\n",
      "6      metal  0.920000\n",
      "5       jazz  0.909091\n",
      "0      blues  0.800000\n",
      "4     hiphop  0.800000\n",
      "7        pop  0.769231\n",
      "2    country  0.666667\n",
      "3      disco  0.666667\n",
      "8     reggae  0.565217\n",
      "9       rock  0.428571\n"
     ]
    },
    {
     "data": {
      "text/plain": [
       "<BarContainer object of 10 artists>"
      ]
     },
     "execution_count": 16,
     "metadata": {},
     "output_type": "execute_result"
    },
    {
     "data": {
      "image/png": "[encoded data removed]",
      "text/plain": [
       "<Figure size 1008x720 with 1 Axes>"
      ]
     },
     "metadata": {},
     "output_type": "display_data"
    }
   ],
   "source": [
    "diag_entries = [confusion_mat[i,i] for i in range(len(confusion_mat))]\n",
    "class_accuracy = diag_entries / np.sum(confusion_mat, axis=0)\n",
    "label_names = list(label_map.keys())\n",
    "\n",
    "acc_df = pd.DataFrame({'label':label_names, 'accuracy':class_accuracy})\n",
    "acc_df = acc_df.sort_values(by='accuracy', ascending=False)\n",
    "print(acc_df)\n",
    "\n",
    "plt.xlabel('Genre')\n",
    "plt.ylabel('Accuracy of classifier')\n",
    "\n",
    "plt.yticks(np.arange(0,1.05,step=0.1))\n",
    "\n",
    "plt.title('Accuracy of classifier by genre')\n",
    "plt.bar(acc_df['label'], acc_df['accuracy'])"
   ]
  },
  {
   "cell_type": "code",
   "execution_count": 17,
   "id": "eaccafcf-2a6f-436a-932d-c6dc93fc242c",
   "metadata": {},
   "outputs": [
    {
     "name": "stdout",
     "output_type": "stream",
     "text": [
      "blues        0\n",
      "classical    1\n",
      "country      2\n",
      "disco        3\n",
      "hiphop       4\n",
      "jazz         5\n",
      "metal        6\n",
      "pop          7\n",
      "reggae       8\n",
      "rock         9\n",
      "dtype: int64\n"
     ]
    }
   ],
   "source": [
    "print(pd.Series(label_map))"
   ]
  },
  {
   "cell_type": "code",
   "execution_count": 18,
   "id": "08324c17-ff3e-4f11-8364-7cbb414ccf76",
   "metadata": {},
   "outputs": [
    {
     "data": {
      "text/plain": [
       "<BarContainer object of 5 artists>"
      ]
     },
     "execution_count": 18,
     "metadata": {},
     "output_type": "execute_result"
    },
    {
     "data": {
      "image/png": "[encoded data removed]",
      "text/plain": [
       "<Figure size 1008x720 with 1 Axes>"
      ]
     },
     "metadata": {},
     "output_type": "display_data"
    }
   ],
   "source": [
    "feature_importance = clf.feature_importances_\n",
    "col_names = features_df.columns\n",
    "\n",
    "importance_df = pd.DataFrame({'col':col_names, 'importance':feature_importance})\n",
    "importance_df = importance_df.sort_values(by='importance', ascending=False)\n",
    "\n",
    "plt.xlabel('Feature')\n",
    "plt.ylabel('Gini importance of feature')\n",
    "plt.title('Top 5 most important features')\n",
    "\n",
    "plt.bar(importance_df.iloc[:5,0], importance_df.iloc[:5,1])"
   ]
  },
  {
   "cell_type": "code",
   "execution_count": 19,
   "id": "1d7bb654-8ab2-4af4-9885-a2fe8e7f4a6c",
   "metadata": {},
   "outputs": [
    {
     "data": {
      "text/plain": [
       "<AxesSubplot:xlabel='label'>"
      ]
     },
     "execution_count": 19,
     "metadata": {},
     "output_type": "execute_result"
    },
    {
     "data": {
      "image/png": "[encoded data removed]",
      "text/plain": [
       "<Figure size 1008x720 with 1 Axes>"
      ]
     },
     "metadata": {},
     "output_type": "display_data"
    }
   ],
   "source": [
    "orig_df.groupby('label').mean()['perceptr_var'].sort_values(ascending=False).plot(kind='bar')"
   ]
  }
 ],
 "metadata": {
  "kernelspec": {
   "display_name": "Python 3",
   "language": "python",
   "name": "python3"
  },
  "language_info": {
   "codemirror_mode": {
    "name": "ipython",
    "version": 3
   },
   "file_extension": ".py",
   "mimetype": "text/x-python",
   "name": "python",
   "nbconvert_exporter": "python",
   "pygments_lexer": "ipython3",
   "version": "3.8.6"
  }
 },
 "nbformat": 4,
 "nbformat_minor": 5
}
