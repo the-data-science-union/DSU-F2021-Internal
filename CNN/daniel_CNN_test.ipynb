{
 "cells": [
  {
   "cell_type": "code",
   "execution_count": 34,
   "id": "f26986a6-a85f-4666-a152-f3f3e6c1d311",
   "metadata": {},
   "outputs": [],
   "source": [
    "import numpy as np\n",
    "import pandas as pd\n",
    "import os\n",
    "from PIL import Image\n",
    "import glob\n",
    "from sklearn.model_selection import train_test_split\n",
    "import time\n",
    "from tensorflow.keras.models import Sequential\n",
    "from tensorflow.keras.layers import Dense, Conv2D, Flatten, Dropout, MaxPooling2D\n",
    "import tensorflow as tf\n",
    "from tensorflow.keras.utils import to_categorical\n",
    "from tensorflow.keras.callbacks import EarlyStopping"
   ]
  },
  {
   "cell_type": "code",
   "execution_count": 19,
   "id": "90812e97-1c36-4568-8b56-6be088b831e5",
   "metadata": {},
   "outputs": [],
   "source": [
    "image_list = []\n",
    "genres = []\n",
    "for filename in glob.glob('../images_original/*/*.png'): #assuming png\n",
    "    im = np.array(Image.open(filename).convert('L'))/255 - 0.5\n",
    "    genre = filename.split('/')[2]\n",
    "    \n",
    "    genres.append(genre)\n",
    "    image_list.append(im)"
   ]
  },
  {
   "cell_type": "code",
   "execution_count": 20,
   "id": "90207d12-f957-42b7-8b16-187f1ba64a70",
   "metadata": {},
   "outputs": [
    {
     "data": {
      "text/plain": [
       "['blues',\n",
       " 'classical',\n",
       " 'country',\n",
       " 'disco',\n",
       " 'hiphop',\n",
       " 'jazz',\n",
       " 'metal',\n",
       " 'pop',\n",
       " 'reggae',\n",
       " 'rock']"
      ]
     },
     "execution_count": 20,
     "metadata": {},
     "output_type": "execute_result"
    }
   ],
   "source": [
    "unique_genres = list(np.unique(genres))\n",
    "unique_genres"
   ]
  },
  {
   "cell_type": "code",
   "execution_count": 21,
   "id": "dfbbba69-674e-44b2-a838-2caf8ce2ff61",
   "metadata": {},
   "outputs": [],
   "source": [
    "def map_genre_to_onehot(genre_str):\n",
    "    '''\n",
    "    Genre str: String containing genre name\n",
    "    Returns: one hot encoding of genre string given list of classes\n",
    "    '''\n",
    "    ohe = np.zeros(shape=(10,))\n",
    "    genre_idx = unique_genres.index(genre_str)\n",
    "    ohe[genre_idx] = 1\n",
    "    return ohe"
   ]
  },
  {
   "cell_type": "code",
   "execution_count": 22,
   "id": "96e37cd5-517a-4926-9b04-d5a6650d976e",
   "metadata": {},
   "outputs": [],
   "source": [
    "def map_genre_to_number(genre_str):\n",
    "    genre_idx = unique_genres.index(genre_str)\n",
    "    return genre_idx"
   ]
  },
  {
   "cell_type": "code",
   "execution_count": 23,
   "id": "34f65741-09de-4a91-a98b-eecab0a4b440",
   "metadata": {},
   "outputs": [],
   "source": [
    "genres = pd.Series(genres)\n",
    "genres_nums = genres.map(map_genre_to_number).values"
   ]
  },
  {
   "cell_type": "code",
   "execution_count": 24,
   "id": "1916d41e-b7a8-4353-ad9f-4e5b21d6ea67",
   "metadata": {},
   "outputs": [
    {
     "data": {
      "text/plain": [
       "(999, 10)"
      ]
     },
     "execution_count": 24,
     "metadata": {},
     "output_type": "execute_result"
    }
   ],
   "source": [
    "y = to_categorical(genres_nums)\n",
    "y.shape"
   ]
  },
  {
   "cell_type": "code",
   "execution_count": 25,
   "id": "15727b51-a32a-4865-a051-9ab2a15aab78",
   "metadata": {},
   "outputs": [],
   "source": [
    "genres = pd.Series(genres)\n",
    "genres_onehot = genres.map(map_genre_to_onehot)"
   ]
  },
  {
   "cell_type": "code",
   "execution_count": 31,
   "id": "1ba4f48f-d601-4b1a-a2ee-26af4e57e42a",
   "metadata": {},
   "outputs": [],
   "source": [
    "X = np.asarray(image_list).reshape(999,288,432,1)"
   ]
  },
  {
   "cell_type": "code",
   "execution_count": 32,
   "id": "dfcd207b-0018-42f8-bac8-05a31341517c",
   "metadata": {},
   "outputs": [],
   "source": [
    "X_train, X_test, y_train, y_test = train_test_split(X, y, test_size=0.2)"
   ]
  },
  {
   "cell_type": "code",
   "execution_count": 43,
   "id": "3c926b48-b4d6-4520-b266-e5c88dbcbdde",
   "metadata": {},
   "outputs": [],
   "source": [
    "early_stopping = EarlyStopping(monitor='val_loss', mode='min', verbose=1, patience=5)"
   ]
  },
  {
   "cell_type": "code",
   "execution_count": 44,
   "id": "33ed58c8-fce4-452a-af3b-7ca128f4177c",
   "metadata": {},
   "outputs": [
    {
     "name": "stdout",
     "output_type": "stream",
     "text": [
      "Model: \"sequential_17\"\n",
      "_________________________________________________________________\n",
      " Layer (type)                Output Shape              Param #   \n",
      "=================================================================\n",
      " conv2d_34 (Conv2D)          (None, 287, 431, 10)      50        \n",
      "                                                                 \n",
      " max_pooling2d_34 (MaxPoolin  (None, 71, 107, 10)      0         \n",
      " g2D)                                                            \n",
      "                                                                 \n",
      " conv2d_35 (Conv2D)          (None, 70, 106, 10)       410       \n",
      "                                                                 \n",
      " max_pooling2d_35 (MaxPoolin  (None, 17, 26, 10)       0         \n",
      " g2D)                                                            \n",
      "                                                                 \n",
      " flatten_17 (Flatten)        (None, 4420)              0         \n",
      "                                                                 \n",
      " dropout_17 (Dropout)        (None, 4420)              0         \n",
      "                                                                 \n",
      " dense_17 (Dense)            (None, 10)                44210     \n",
      "                                                                 \n",
      "=================================================================\n",
      "Total params: 44,670\n",
      "Trainable params: 44,670\n",
      "Non-trainable params: 0\n",
      "_________________________________________________________________\n",
      "Epoch 1/150\n",
      "100/100 [==============================] - 10s 99ms/step - loss: 2.3073 - accuracy: 0.1289 - val_loss: 2.2586 - val_accuracy: 0.1800\n",
      "Epoch 2/150\n",
      "100/100 [==============================] - 15s 149ms/step - loss: 2.1967 - accuracy: 0.2103 - val_loss: 2.1754 - val_accuracy: 0.1600\n",
      "Epoch 3/150\n",
      "100/100 [==============================] - 15s 154ms/step - loss: 2.0063 - accuracy: 0.3016 - val_loss: 1.9099 - val_accuracy: 0.3450\n",
      "Epoch 4/150\n",
      "100/100 [==============================] - 14s 141ms/step - loss: 1.7897 - accuracy: 0.3742 - val_loss: 1.7028 - val_accuracy: 0.4100\n",
      "Epoch 5/150\n",
      "100/100 [==============================] - 16s 156ms/step - loss: 1.6226 - accuracy: 0.4318 - val_loss: 1.6066 - val_accuracy: 0.4100\n",
      "Epoch 6/150\n",
      "100/100 [==============================] - 17s 168ms/step - loss: 1.4497 - accuracy: 0.5019 - val_loss: 1.4225 - val_accuracy: 0.5300\n",
      "Epoch 7/150\n",
      "100/100 [==============================] - 15s 152ms/step - loss: 1.2974 - accuracy: 0.5782 - val_loss: 1.3593 - val_accuracy: 0.5350\n",
      "Epoch 8/150\n",
      "100/100 [==============================] - 14s 136ms/step - loss: 1.1544 - accuracy: 0.6383 - val_loss: 1.2857 - val_accuracy: 0.5650\n",
      "Epoch 9/150\n",
      "100/100 [==============================] - 13s 135ms/step - loss: 1.0505 - accuracy: 0.6596 - val_loss: 1.1914 - val_accuracy: 0.5800\n",
      "Epoch 10/150\n",
      "100/100 [==============================] - 16s 157ms/step - loss: 0.9498 - accuracy: 0.6809 - val_loss: 1.2052 - val_accuracy: 0.5450\n",
      "Epoch 11/150\n",
      "100/100 [==============================] - 14s 141ms/step - loss: 0.8569 - accuracy: 0.7334 - val_loss: 1.2548 - val_accuracy: 0.5600\n",
      "Epoch 12/150\n",
      "100/100 [==============================] - 15s 145ms/step - loss: 0.8257 - accuracy: 0.7459 - val_loss: 1.1708 - val_accuracy: 0.6050\n",
      "Epoch 13/150\n",
      "100/100 [==============================] - 15s 147ms/step - loss: 0.7553 - accuracy: 0.7522 - val_loss: 1.1217 - val_accuracy: 0.6050\n",
      "Epoch 14/150\n",
      "100/100 [==============================] - 16s 157ms/step - loss: 0.6809 - accuracy: 0.7897 - val_loss: 1.0688 - val_accuracy: 0.6550\n",
      "Epoch 15/150\n",
      "100/100 [==============================] - 21s 206ms/step - loss: 0.6295 - accuracy: 0.7985 - val_loss: 1.0909 - val_accuracy: 0.6250\n",
      "Epoch 16/150\n",
      "100/100 [==============================] - 14s 144ms/step - loss: 0.5625 - accuracy: 0.8273 - val_loss: 1.1189 - val_accuracy: 0.6200\n",
      "Epoch 17/150\n",
      "100/100 [==============================] - 14s 142ms/step - loss: 0.5577 - accuracy: 0.8348 - val_loss: 1.0938 - val_accuracy: 0.6250\n",
      "Epoch 18/150\n",
      "100/100 [==============================] - 16s 164ms/step - loss: 0.5348 - accuracy: 0.8248 - val_loss: 1.0739 - val_accuracy: 0.6350\n",
      "Epoch 19/150\n",
      "100/100 [==============================] - 14s 140ms/step - loss: 0.4506 - accuracy: 0.8773 - val_loss: 1.1152 - val_accuracy: 0.5850\n",
      "Epoch 00019: early stopping\n"
     ]
    },
    {
     "data": {
      "text/plain": [
       "<keras.callbacks.History at 0x1fe5d3f70>"
      ]
     },
     "execution_count": 44,
     "metadata": {},
     "output_type": "execute_result"
    }
   ],
   "source": [
    "#create model\n",
    "model = tf.keras.Sequential()\n",
    "#add model layers\n",
    "model.add(Conv2D(10, kernel_size=2, activation='relu', input_shape=(288,432,1)))\n",
    "model.add(MaxPooling2D(pool_size=4))\n",
    "model.add(Conv2D(10, kernel_size=2, activation='relu'))\n",
    "model.add(MaxPooling2D(pool_size=4))\n",
    "model.add(Flatten())\n",
    "model.add(Dropout(0.2))\n",
    "model.add(Dense(10, activation='softmax'))\n",
    "\n",
    "opt = tf.keras.optimizers.Adam(lr=1e-3)\n",
    "model.compile(optimizer=opt, loss='categorical_crossentropy', metrics=['accuracy'])\n",
    "\n",
    "model.summary()\n",
    "\n",
    "model.fit(X_train, y_train, validation_data=(X_test, y_test), epochs=150, batch_size=8, verbose=1, callbacks=[early_stopping])"
   ]
  },
  {
   "cell_type": "code",
   "execution_count": 47,
   "id": "63771ad0-172a-4c73-91d8-99cc84178b83",
   "metadata": {},
   "outputs": [],
   "source": [
    "preds = model.predict(X_test)"
   ]
  }
 ],
 "metadata": {
  "kernelspec": {
   "display_name": "Python 3",
   "language": "python",
   "name": "python3"
  },
  "language_info": {
   "codemirror_mode": {
    "name": "ipython",
    "version": 3
   },
   "file_extension": ".py",
   "mimetype": "text/x-python",
   "name": "python",
   "nbconvert_exporter": "python",
   "pygments_lexer": "ipython3",
   "version": "3.8.6"
  }
 },
 "nbformat": 4,
 "nbformat_minor": 5
}
