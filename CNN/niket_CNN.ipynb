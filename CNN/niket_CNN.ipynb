{
 "cells": [
  {
   "cell_type": "code",
   "execution_count": 15,
   "id": "f26986a6-a85f-4666-a152-f3f3e6c1d311",
   "metadata": {},
   "outputs": [],
   "source": [
    "import numpy as np\n",
    "import pandas as pd\n",
    "import os\n",
    "from PIL import Image\n",
    "import glob\n",
    "from sklearn.model_selection import train_test_split\n",
    "import time\n",
    "import tensorflow as tf\n",
    "from tensorflow.keras.models import Sequential\n",
    "from tensorflow.keras.layers import Dense, Conv2D, Flatten, Dropout, MaxPooling2D\n",
    "from tensorflow.keras.utils import to_categorical\n",
    "from tensorflow.keras.callbacks import EarlyStopping"
   ]
  },
  {
   "cell_type": "code",
   "execution_count": 2,
   "id": "90812e97-1c36-4568-8b56-6be088b831e5",
   "metadata": {},
   "outputs": [],
   "source": [
    "image_list = []\n",
    "genres = []\n",
    "for filename in glob.glob('../images_original/*/*.png'): #assuming png\n",
    "    im = np.array(Image.open(filename).convert('L'))/255 - 0.5\n",
    "    genre = filename.split('/')[2]\n",
    "    \n",
    "    genres.append(genre)\n",
    "    image_list.append(im)"
   ]
  },
  {
   "cell_type": "code",
   "execution_count": 3,
   "id": "90207d12-f957-42b7-8b16-187f1ba64a70",
   "metadata": {},
   "outputs": [
    {
     "data": {
      "text/plain": [
       "['blues',\n",
       " 'classical',\n",
       " 'country',\n",
       " 'disco',\n",
       " 'hiphop',\n",
       " 'jazz',\n",
       " 'metal',\n",
       " 'pop',\n",
       " 'reggae',\n",
       " 'rock']"
      ]
     },
     "execution_count": 3,
     "metadata": {},
     "output_type": "execute_result"
    }
   ],
   "source": [
    "unique_genres = list(np.unique(genres))\n",
    "unique_genres"
   ]
  },
  {
   "cell_type": "code",
   "execution_count": 4,
   "id": "dfbbba69-674e-44b2-a838-2caf8ce2ff61",
   "metadata": {},
   "outputs": [],
   "source": [
    "def map_genre_to_onehot(genre_str):\n",
    "    '''\n",
    "    Genre str: String containing genre name\n",
    "    Returns: one hot encoding of genre string given list of classes\n",
    "    '''\n",
    "    ohe = np.zeros(shape=(10,))\n",
    "    genre_idx = unique_genres.index(genre_str)\n",
    "    ohe[genre_idx] = 1\n",
    "    return ohe"
   ]
  },
  {
   "cell_type": "code",
   "execution_count": 5,
   "id": "96e37cd5-517a-4926-9b04-d5a6650d976e",
   "metadata": {},
   "outputs": [],
   "source": [
    "def map_genre_to_number(genre_str):\n",
    "    genre_idx = unique_genres.index(genre_str)\n",
    "    return genre_idx"
   ]
  },
  {
   "cell_type": "code",
   "execution_count": 6,
   "id": "34f65741-09de-4a91-a98b-eecab0a4b440",
   "metadata": {},
   "outputs": [],
   "source": [
    "genres = pd.Series(genres)\n",
    "genres_nums = genres.map(map_genre_to_number).values"
   ]
  },
  {
   "cell_type": "code",
   "execution_count": 7,
   "id": "1916d41e-b7a8-4353-ad9f-4e5b21d6ea67",
   "metadata": {},
   "outputs": [
    {
     "data": {
      "text/plain": [
       "(999, 10)"
      ]
     },
     "execution_count": 7,
     "metadata": {},
     "output_type": "execute_result"
    }
   ],
   "source": [
    "y = to_categorical(genres_nums)\n",
    "y.shape"
   ]
  },
  {
   "cell_type": "code",
   "execution_count": 8,
   "id": "15727b51-a32a-4865-a051-9ab2a15aab78",
   "metadata": {},
   "outputs": [],
   "source": [
    "genres = pd.Series(genres)\n",
    "genres_onehot = genres.map(map_genre_to_onehot)"
   ]
  },
  {
   "cell_type": "code",
   "execution_count": 9,
   "id": "1ba4f48f-d601-4b1a-a2ee-26af4e57e42a",
   "metadata": {},
   "outputs": [],
   "source": [
    "X = np.asarray(image_list).reshape(999,288,432,1)"
   ]
  },
  {
   "cell_type": "code",
   "execution_count": 10,
   "id": "dfcd207b-0018-42f8-bac8-05a31341517c",
   "metadata": {},
   "outputs": [],
   "source": [
    "X_train, X_test, y_train, y_test = train_test_split(X, y, test_size=0.2)"
   ]
  },
  {
   "cell_type": "code",
   "execution_count": 11,
   "id": "3c926b48-b4d6-4520-b266-e5c88dbcbdde",
   "metadata": {},
   "outputs": [],
   "source": [
    "early_stopping = EarlyStopping(monitor='val_loss', mode='min', verbose=1, patience=5)"
   ]
  },
  {
   "cell_type": "code",
   "execution_count": 18,
   "id": "33ed58c8-fce4-452a-af3b-7ca128f4177c",
   "metadata": {},
   "outputs": [
    {
     "name": "stdout",
     "output_type": "stream",
     "text": [
      "Model: \"sequential_3\"\n",
      "_________________________________________________________________\n",
      "Layer (type)                 Output Shape              Param #   \n",
      "=================================================================\n",
      "conv2d_7 (Conv2D)            (None, 279, 428, 10)      510       \n",
      "_________________________________________________________________\n",
      "max_pooling2d_7 (MaxPooling2 (None, 69, 107, 10)       0         \n",
      "_________________________________________________________________\n",
      "conv2d_8 (Conv2D)            (None, 65, 103, 10)       2510      \n",
      "_________________________________________________________________\n",
      "max_pooling2d_8 (MaxPooling2 (None, 16, 25, 10)        0         \n",
      "_________________________________________________________________\n",
      "conv2d_9 (Conv2D)            (None, 12, 21, 10)        2510      \n",
      "_________________________________________________________________\n",
      "max_pooling2d_9 (MaxPooling2 (None, 3, 5, 10)          0         \n",
      "_________________________________________________________________\n",
      "flatten_3 (Flatten)          (None, 150)               0         \n",
      "_________________________________________________________________\n",
      "dropout_3 (Dropout)          (None, 150)               0         \n",
      "_________________________________________________________________\n",
      "dense_9 (Dense)              (None, 200)               30200     \n",
      "_________________________________________________________________\n",
      "dense_10 (Dense)             (None, 200)               40200     \n",
      "_________________________________________________________________\n",
      "dense_11 (Dense)             (None, 10)                2010      \n",
      "=================================================================\n",
      "Total params: 77,940\n",
      "Trainable params: 77,940\n",
      "Non-trainable params: 0\n",
      "_________________________________________________________________\n",
      "Train on 799 samples, validate on 200 samples\n",
      "Epoch 1/150\n",
      "799/799 [==============================] - 38s 48ms/sample - loss: 2.3079 - accuracy: 0.1001 - val_loss: 2.3130 - val_accuracy: 0.0800\n",
      "Epoch 2/150\n",
      "799/799 [==============================] - 36s 45ms/sample - loss: 2.3070 - accuracy: 0.0751 - val_loss: 2.3139 - val_accuracy: 0.0950\n",
      "Epoch 3/150\n",
      "799/799 [==============================] - 34s 43ms/sample - loss: 2.3071 - accuracy: 0.0901 - val_loss: 2.3133 - val_accuracy: 0.0700\n",
      "Epoch 4/150\n",
      "799/799 [==============================] - 35s 44ms/sample - loss: 2.3053 - accuracy: 0.0964 - val_loss: 2.3161 - val_accuracy: 0.0700\n",
      "Epoch 5/150\n",
      "799/799 [==============================] - 35s 44ms/sample - loss: 2.3069 - accuracy: 0.0864 - val_loss: 2.3145 - val_accuracy: 0.0800\n",
      "Epoch 6/150\n",
      "799/799 [==============================] - 35s 44ms/sample - loss: 2.3063 - accuracy: 0.1026 - val_loss: 2.3188 - val_accuracy: 0.0700\n",
      "Epoch 00006: early stopping\n"
     ]
    },
    {
     "data": {
      "text/plain": [
       "<tensorflow.python.keras.callbacks.History at 0x7fbee548c290>"
      ]
     },
     "execution_count": 18,
     "metadata": {},
     "output_type": "execute_result"
    }
   ],
   "source": [
    "#create model\n",
    "model = Sequential()\n",
    "#add model layers\n",
    "model.add(Conv2D(10, kernel_size=(10,5), activation='relu', input_shape=(288,432,1)))\n",
    "model.add(MaxPooling2D(pool_size=4))\n",
    "model.add(Conv2D(10, kernel_size=5, activation='relu'))\n",
    "model.add(MaxPooling2D(pool_size=4))\n",
    "model.add(Conv2D(10, kernel_size=5, activation='relu'))\n",
    "model.add(MaxPooling2D(pool_size=4))\n",
    "model.add(Flatten())\n",
    "model.add(Dropout(0.2))\n",
    "model.add(Dense(200, activation='softmax'))\n",
    "model.add(Dense(200, activation='softmax'))\n",
    "model.add(Dense(10, activation='softmax'))\n",
    "\n",
    "\n",
    "opt = tf.keras.optimizers.Adam(lr=1e-2)\n",
    "model.compile(optimizer=opt, loss='categorical_crossentropy', metrics=['accuracy'])\n",
    "\n",
    "model.summary()\n",
    "\n",
    "model.fit(X_train, y_train, validation_data=(X_test, y_test), epochs=150, batch_size=16, verbose=1, callbacks=[early_stopping])"
   ]
  },
  {
   "cell_type": "code",
   "execution_count": null,
   "id": "63771ad0-172a-4c73-91d8-99cc84178b83",
   "metadata": {},
   "outputs": [],
   "source": []
  }
 ],
 "metadata": {
  "kernelspec": {
   "display_name": "Python 3",
   "language": "python",
   "name": "python3"
  },
  "language_info": {
   "codemirror_mode": {
    "name": "ipython",
    "version": 3
   },
   "file_extension": ".py",
   "mimetype": "text/x-python",
   "name": "python",
   "nbconvert_exporter": "python",
   "pygments_lexer": "ipython3",
   "version": "3.8.8"
  }
 },
 "nbformat": 4,
 "nbformat_minor": 5
}
